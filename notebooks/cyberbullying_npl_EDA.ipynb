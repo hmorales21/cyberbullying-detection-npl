{
 "cells": [
  {
   "attachments": {},
   "cell_type": "markdown",
   "metadata": {},
   "source": [
    "<h1>Cyberbullying detection</h1>\n",
    "<hr>\n",
    "<h2>Text Classification NPL<h2>\n",
    "<hr>\n",
    "<h3>Proyect 7</h3>\n",
    "<hr>"
   ]
  },
  {
   "cell_type": "code",
   "execution_count": 27,
   "metadata": {},
   "outputs": [],
   "source": [
    "#import libraries\n",
    "import numpy as np\n",
    "import pandas as pd\n",
    "import matplotlib.pyplot as plt\n",
    "import seaborn as sns\n",
    "import nltk\n",
    "\n",
    "import gensim\n",
    "import wordcloud\n",
    "import textblob\n",
    "import spacy\n",
    "import textstat\n",
    "\n",
    "from nltk.corpus import stopwords\n",
    "from collections import  Counter\n",
    "from nltk.stem import WordNetLemmatizer,PorterStemmer\n",
    "from nltk.tokenize import word_tokenize\n",
    "import pyLDAvis.gensim\n",
    "\n",
    "from utilerias import missing_values_table\n",
    "from utilerias import features_by_type\n",
    "\n",
    "import warnings\n",
    "warnings.filterwarnings('ignore')\n",
    "%matplotlib inline"
   ]
  },
  {
   "attachments": {},
   "cell_type": "markdown",
   "metadata": {},
   "source": [
    "<hr>\n",
    "read the dataset\n",
    "<hr>"
   ]
  },
  {
   "cell_type": "code",
   "execution_count": 2,
   "metadata": {},
   "outputs": [],
   "source": [
    "df_cbd = pd.read_csv('../datasets/twitter_parsed_dataset.csv')"
   ]
  },
  {
   "cell_type": "code",
   "execution_count": 3,
   "metadata": {},
   "outputs": [
    {
     "data": {
      "text/html": [
       "<div>\n",
       "<style scoped>\n",
       "    .dataframe tbody tr th:only-of-type {\n",
       "        vertical-align: middle;\n",
       "    }\n",
       "\n",
       "    .dataframe tbody tr th {\n",
       "        vertical-align: top;\n",
       "    }\n",
       "\n",
       "    .dataframe thead th {\n",
       "        text-align: right;\n",
       "    }\n",
       "</style>\n",
       "<table border=\"1\" class=\"dataframe\">\n",
       "  <thead>\n",
       "    <tr style=\"text-align: right;\">\n",
       "      <th></th>\n",
       "      <th>index</th>\n",
       "      <th>id</th>\n",
       "      <th>Text</th>\n",
       "      <th>Annotation</th>\n",
       "      <th>oh_label</th>\n",
       "    </tr>\n",
       "  </thead>\n",
       "  <tbody>\n",
       "    <tr>\n",
       "      <th>0</th>\n",
       "      <td>5.74948705591165E+017</td>\n",
       "      <td>5.74948705591165E+017</td>\n",
       "      <td>@halalflaws @biebervalue @greenlinerzjm I read...</td>\n",
       "      <td>none</td>\n",
       "      <td>0.0</td>\n",
       "    </tr>\n",
       "    <tr>\n",
       "      <th>1</th>\n",
       "      <td>5.71917888690393E+017</td>\n",
       "      <td>5.71917888690393E+017</td>\n",
       "      <td>@ShreyaBafna3 Now you idiots claim that people...</td>\n",
       "      <td>none</td>\n",
       "      <td>0.0</td>\n",
       "    </tr>\n",
       "    <tr>\n",
       "      <th>2</th>\n",
       "      <td>3.90255841338601E+017</td>\n",
       "      <td>3.90255841338601E+017</td>\n",
       "      <td>RT @Mooseoftorment Call me sexist, but when I ...</td>\n",
       "      <td>sexism</td>\n",
       "      <td>1.0</td>\n",
       "    </tr>\n",
       "    <tr>\n",
       "      <th>3</th>\n",
       "      <td>5.68208850655916E+017</td>\n",
       "      <td>5.68208850655916E+017</td>\n",
       "      <td>@g0ssipsquirrelx Wrong, ISIS follows the examp...</td>\n",
       "      <td>racism</td>\n",
       "      <td>1.0</td>\n",
       "    </tr>\n",
       "    <tr>\n",
       "      <th>4</th>\n",
       "      <td>5.75596338802373E+017</td>\n",
       "      <td>5.75596338802373E+017</td>\n",
       "      <td>#mkr No No No No No No</td>\n",
       "      <td>none</td>\n",
       "      <td>0.0</td>\n",
       "    </tr>\n",
       "  </tbody>\n",
       "</table>\n",
       "</div>"
      ],
      "text/plain": [
       "                   index                     id  \\\n",
       "0  5.74948705591165E+017  5.74948705591165E+017   \n",
       "1  5.71917888690393E+017  5.71917888690393E+017   \n",
       "2  3.90255841338601E+017  3.90255841338601E+017   \n",
       "3  5.68208850655916E+017  5.68208850655916E+017   \n",
       "4  5.75596338802373E+017  5.75596338802373E+017   \n",
       "\n",
       "                                                Text Annotation  oh_label  \n",
       "0  @halalflaws @biebervalue @greenlinerzjm I read...       none       0.0  \n",
       "1  @ShreyaBafna3 Now you idiots claim that people...       none       0.0  \n",
       "2  RT @Mooseoftorment Call me sexist, but when I ...     sexism       1.0  \n",
       "3  @g0ssipsquirrelx Wrong, ISIS follows the examp...     racism       1.0  \n",
       "4                             #mkr No No No No No No       none       0.0  "
      ]
     },
     "execution_count": 3,
     "metadata": {},
     "output_type": "execute_result"
    }
   ],
   "source": [
    "df_cbd.head()"
   ]
  },
  {
   "cell_type": "code",
   "execution_count": 4,
   "metadata": {},
   "outputs": [],
   "source": [
    "#let's standarize some features, before to proceed with the EDA\n",
    "#Eliminate spaces and upper cases from name columns\n",
    "df_cbd.columns=df_cbd.columns.str.lower().str.replace(' ', '_')\n"
   ]
  },
  {
   "cell_type": "code",
   "execution_count": 5,
   "metadata": {},
   "outputs": [
    {
     "data": {
      "text/plain": [
       "Index(['index', 'id', 'text', 'annotation', 'oh_label'], dtype='object')"
      ]
     },
     "execution_count": 5,
     "metadata": {},
     "output_type": "execute_result"
    }
   ],
   "source": [
    "df_cbd.columns"
   ]
  },
  {
   "cell_type": "code",
   "execution_count": 6,
   "metadata": {},
   "outputs": [
    {
     "name": "stdout",
     "output_type": "stream",
     "text": [
      "Sumary :\n",
      "========================================\n",
      "Columns     :5\n",
      "Null values :4\n",
      "=========================================\n"
     ]
    },
    {
     "data": {
      "text/html": [
       "<style type=\"text/css\">\n",
       "#T_70597_row0_col0, #T_70597_row1_col0 {\n",
       "  background-color: #67000d;\n",
       "  color: #f1f1f1;\n",
       "}\n",
       "#T_70597_row0_col1, #T_70597_row1_col1, #T_70597_row2_col0, #T_70597_row2_col1, #T_70597_row3_col0, #T_70597_row3_col1 {\n",
       "  background-color: #fff5f0;\n",
       "  color: #000000;\n",
       "}\n",
       "</style>\n",
       "<table id=\"T_70597\">\n",
       "  <thead>\n",
       "    <tr>\n",
       "      <th class=\"blank level0\" >&nbsp;</th>\n",
       "      <th id=\"T_70597_level0_col0\" class=\"col_heading level0 col0\" >Missing Values</th>\n",
       "      <th id=\"T_70597_level0_col1\" class=\"col_heading level0 col1\" >% of Total Values</th>\n",
       "    </tr>\n",
       "  </thead>\n",
       "  <tbody>\n",
       "    <tr>\n",
       "      <th id=\"T_70597_level0_row0\" class=\"row_heading level0 row0\" >annotation</th>\n",
       "      <td id=\"T_70597_row0_col0\" class=\"data row0 col0\" >3</td>\n",
       "      <td id=\"T_70597_row0_col1\" class=\"data row0 col1\" >0.000000</td>\n",
       "    </tr>\n",
       "    <tr>\n",
       "      <th id=\"T_70597_level0_row1\" class=\"row_heading level0 row1\" >oh_label</th>\n",
       "      <td id=\"T_70597_row1_col0\" class=\"data row1 col0\" >3</td>\n",
       "      <td id=\"T_70597_row1_col1\" class=\"data row1 col1\" >0.000000</td>\n",
       "    </tr>\n",
       "    <tr>\n",
       "      <th id=\"T_70597_level0_row2\" class=\"row_heading level0 row2\" >id</th>\n",
       "      <td id=\"T_70597_row2_col0\" class=\"data row2 col0\" >1</td>\n",
       "      <td id=\"T_70597_row2_col1\" class=\"data row2 col1\" >0.000000</td>\n",
       "    </tr>\n",
       "    <tr>\n",
       "      <th id=\"T_70597_level0_row3\" class=\"row_heading level0 row3\" >text</th>\n",
       "      <td id=\"T_70597_row3_col0\" class=\"data row3 col0\" >1</td>\n",
       "      <td id=\"T_70597_row3_col1\" class=\"data row3 col1\" >0.000000</td>\n",
       "    </tr>\n",
       "  </tbody>\n",
       "</table>\n"
      ],
      "text/plain": [
       "<pandas.io.formats.style.Styler at 0x7f2aa4242730>"
      ]
     },
     "execution_count": 6,
     "metadata": {},
     "output_type": "execute_result"
    }
   ],
   "source": [
    "table = missing_values_table(df_cbd)\n",
    "table.style.background_gradient(cmap='Reds')"
   ]
  },
  {
   "cell_type": "code",
   "execution_count": 7,
   "metadata": {},
   "outputs": [
    {
     "data": {
      "text/html": [
       "<div>\n",
       "<style scoped>\n",
       "    .dataframe tbody tr th:only-of-type {\n",
       "        vertical-align: middle;\n",
       "    }\n",
       "\n",
       "    .dataframe tbody tr th {\n",
       "        vertical-align: top;\n",
       "    }\n",
       "\n",
       "    .dataframe thead th {\n",
       "        text-align: right;\n",
       "    }\n",
       "</style>\n",
       "<table border=\"1\" class=\"dataframe\">\n",
       "  <thead>\n",
       "    <tr style=\"text-align: right;\">\n",
       "      <th></th>\n",
       "      <th>index</th>\n",
       "      <th>id</th>\n",
       "      <th>text</th>\n",
       "      <th>annotation</th>\n",
       "      <th>oh_label</th>\n",
       "    </tr>\n",
       "  </thead>\n",
       "  <tbody>\n",
       "    <tr>\n",
       "      <th>2992</th>\n",
       "      <td>5.67909969783169E+017</td>\n",
       "      <td>5.67909969783169E+017</td>\n",
       "      <td>RT @Lizzethismetal: Probably gonna piss off so...</td>\n",
       "      <td>NaN</td>\n",
       "      <td>NaN</td>\n",
       "    </tr>\n",
       "    <tr>\n",
       "      <th>2993</th>\n",
       "      <td>#yesallmen</td>\n",
       "      <td>NaN</td>\n",
       "      <td>NaN</td>\n",
       "      <td>NaN</td>\n",
       "      <td>NaN</td>\n",
       "    </tr>\n",
       "    <tr>\n",
       "      <th>2994</th>\n",
       "      <td>@MT8_9 http://t.co/QHo6dhumjc</td>\n",
       "      <td>sexism</td>\n",
       "      <td>1</td>\n",
       "      <td>NaN</td>\n",
       "      <td>NaN</td>\n",
       "    </tr>\n",
       "  </tbody>\n",
       "</table>\n",
       "</div>"
      ],
      "text/plain": [
       "                              index                     id  \\\n",
       "2992          5.67909969783169E+017  5.67909969783169E+017   \n",
       "2993                    #yesallmen                     NaN   \n",
       "2994  @MT8_9 http://t.co/QHo6dhumjc                 sexism   \n",
       "\n",
       "                                                   text annotation  oh_label  \n",
       "2992  RT @Lizzethismetal: Probably gonna piss off so...        NaN       NaN  \n",
       "2993                                                NaN        NaN       NaN  \n",
       "2994                                                  1        NaN       NaN  "
      ]
     },
     "execution_count": 7,
     "metadata": {},
     "output_type": "execute_result"
    }
   ],
   "source": [
    "df_cbd[df_cbd['id'].isnull() | df_cbd['text'].isnull() | df_cbd['annotation'].isnull()] "
   ]
  },
  {
   "attachments": {},
   "cell_type": "markdown",
   "metadata": {},
   "source": [
    "There are 3 rows with some missing features values, I will consider to delete them"
   ]
  },
  {
   "attachments": {},
   "cell_type": "markdown",
   "metadata": {},
   "source": [
    "take a look at the number of characters present in each sentence. This can give us a rough idea about the news headline length."
   ]
  },
  {
   "cell_type": "code",
   "execution_count": 22,
   "metadata": {},
   "outputs": [
    {
     "data": {
      "text/plain": [
       "<AxesSubplot:>"
      ]
     },
     "execution_count": 22,
     "metadata": {},
     "output_type": "execute_result"
    },
    {
     "data": {
      "image/png": "[encoded data removed]",
      "text/plain": [
       "<Figure size 432x288 with 1 Axes>"
      ]
     },
     "metadata": {
      "needs_background": "light"
     },
     "output_type": "display_data"
    }
   ],
   "source": [
    "df_cbd['text'].str.len().hist()"
   ]
  },
  {
   "attachments": {},
   "cell_type": "markdown",
   "metadata": {},
   "source": [
    "Now, let’s plot the number of words appearing in each tweet."
   ]
  },
  {
   "cell_type": "code",
   "execution_count": 13,
   "metadata": {},
   "outputs": [
    {
     "data": {
      "image/png": "[encoded data removed]",
      "text/plain": [
       "<Figure size 432x288 with 1 Axes>"
      ]
     },
     "metadata": {
      "needs_background": "light"
     },
     "output_type": "display_data"
    }
   ],
   "source": [
    "def plot_word_number_histogram(text):\n",
    "    text.str.split().\\\n",
    "        map(lambda x: len(x)).\\\n",
    "        hist()\n",
    "    \n",
    "plot_word_number_histogram(df_cbd[~df_cbd['text'].isnull()]['text'])"
   ]
  },
  {
   "attachments": {},
   "cell_type": "markdown",
   "metadata": {},
   "source": [
    "let's take a look of the average lenght word in those tweets"
   ]
  },
  {
   "cell_type": "code",
   "execution_count": 18,
   "metadata": {
    "vscode": {
     "languageId": "shellscript"
    }
   },
   "outputs": [
    {
     "data": {
      "image/png": "[encoded data removed]",
      "text/plain": [
       "<Figure size 432x288 with 1 Axes>"
      ]
     },
     "metadata": {
      "needs_background": "light"
     },
     "output_type": "display_data"
    }
   ],
   "source": [
    "def plot_word_length_histogram(text):\n",
    "    text.str.split().\\\n",
    "        apply(lambda x : [len(i) for i in x]). \\\n",
    "        map(lambda x: np.mean(x)).\\\n",
    "        hist()\n",
    "\n",
    "plot_word_length_histogram(df_cbd[~df_cbd['text'].isnull()]['text'])"
   ]
  },
  {
   "attachments": {},
   "cell_type": "markdown",
   "metadata": {},
   "source": [
    "Seems to be 5-6 the average word lenght, but I have to consider the stopwords in every text"
   ]
  },
  {
   "cell_type": "code",
   "execution_count": 10,
   "metadata": {
    "vscode": {
     "languageId": "shellscript"
    }
   },
   "outputs": [
    {
     "name": "stderr",
     "output_type": "stream",
     "text": [
      "[nltk_data] Downloading package stopwords to\n",
      "[nltk_data]     /home/hmorales/nltk_data...\n",
      "[nltk_data]   Package stopwords is already up-to-date!\n"
     ]
    },
    {
     "data": {
      "text/plain": [
       "True"
      ]
     },
     "execution_count": 10,
     "metadata": {},
     "output_type": "execute_result"
    }
   ],
   "source": [
    "#download the stopwords from nltk\n",
    "nltk.download('stopwords')\n"
   ]
  },
  {
   "cell_type": "code",
   "execution_count": 12,
   "metadata": {
    "vscode": {
     "languageId": "shellscript"
    }
   },
   "outputs": [],
   "source": [
    "#create an array of english stopwords\n",
    "stop=set(stopwords.words('english'))"
   ]
  },
  {
   "attachments": {},
   "cell_type": "markdown",
   "metadata": {},
   "source": [
    "what are the included stopwords in the tweets? here is how I know it: the 10 most frecuent used stopwords"
   ]
  },
  {
   "cell_type": "code",
   "execution_count": 23,
   "metadata": {
    "vscode": {
     "languageId": "shellscript"
    }
   },
   "outputs": [
    {
     "data": {
      "image/png": "[encoded data removed]",
      "text/plain": [
       "<Figure size 432x288 with 1 Axes>"
      ]
     },
     "metadata": {
      "needs_background": "light"
     },
     "output_type": "display_data"
    }
   ],
   "source": [
    "#creat\n",
    "def plot_top_stopwords_barchart(text):\n",
    "    \n",
    "    new= text.str.split()\n",
    "    new=new.values.tolist()\n",
    "    corpus=[word for i in new for word in i]\n",
    "    from collections import defaultdict\n",
    "    dic=defaultdict(int)\n",
    "    for word in corpus:\n",
    "        if word in stop:\n",
    "            dic[word]+=1\n",
    "            \n",
    "    top=sorted(dic.items(), key=lambda x:x[1],reverse=True)[:10] \n",
    "    x,y=zip(*top)\n",
    "    plt.bar(x,y)\n",
    "\n",
    "\n",
    "plot_top_stopwords_barchart(df_cbd[~df_cbd['text'].isnull()]['text'])"
   ]
  },
  {
   "attachments": {},
   "cell_type": "markdown",
   "metadata": {},
   "source": [
    "Here are the most frecuent used words, of course not stopwords"
   ]
  },
  {
   "cell_type": "code",
   "execution_count": 25,
   "metadata": {
    "vscode": {
     "languageId": "shellscript"
    }
   },
   "outputs": [
    {
     "data": {
      "image/png": "[encoded data removed]",
      "text/plain": [
       "<Figure size 432x288 with 1 Axes>"
      ]
     },
     "metadata": {
      "needs_background": "light"
     },
     "output_type": "display_data"
    }
   ],
   "source": [
    "def plot_top_non_stopwords_barchart(text):\n",
    "        \n",
    "    new= text.str.split()\n",
    "    new=new.values.tolist()\n",
    "    corpus=[word for i in new for word in i]\n",
    "\n",
    "    counter=Counter(corpus)\n",
    "    most=counter.most_common()\n",
    "    x, y=[], []\n",
    "    for word,count in most[:40]:\n",
    "        if (word not in stop):\n",
    "            x.append(word)\n",
    "            y.append(count)\n",
    "            \n",
    "    sns.barplot(x=y,y=x)\n",
    "[5]\n",
    "plot_top_non_stopwords_barchart(df_cbd[~df_cbd['text'].isnull()]['text'])"
   ]
  },
  {
   "attachments": {},
   "cell_type": "markdown",
   "metadata": {},
   "source": [
    "<h3>Topic modeling exploration with pyLDAvis</h3>\n",
    "<p>Topic modeling is the process of using unsupervised learning techniques to extract the main topics that occur in a collection of documents.</p>\n",
    "\n",
    "<p>Latent Dirichlet Allocation (LDA) is an easy to use and efficient model for topic modeling. Each document is represented by the distribution of topics and each topic is represented by the distribution of words.</p>\n",
    "\n",
    "<p>Once we categorize our documents in topics we can dig into further data exploration for each topic or topic group.</p>"
   ]
  },
  {
   "cell_type": "code",
   "execution_count": 28,
   "metadata": {},
   "outputs": [],
   "source": [
    "def get_lda_objects(text):\n",
    "    \n",
    "    def _preprocess_text(text):\n",
    "        corpus=[]\n",
    "        stem=PorterStemmer()\n",
    "        lem=WordNetLemmatizer()\n",
    "        for news in text:\n",
    "            words=[w for w in word_tokenize(news) if (w not in stop)]\n",
    "\n",
    "            words=[lem.lemmatize(w) for w in words if len(w)>2]\n",
    "\n",
    "            corpus.append(words)\n",
    "        return corpus\n",
    "    \n",
    "    corpus=_preprocess_text(text)\n",
    "    \n",
    "    dic=gensim.corpora.Dictionary(corpus)\n",
    "    bow_corpus = [dic.doc2bow(doc) for doc in corpus]\n",
    "    \n",
    "    lda_model =  gensim.models.LdaMulticore(bow_corpus, \n",
    "                                   num_topics = 4, \n",
    "                                   id2word = dic,                                    \n",
    "                                   passes = 10,\n",
    "                                   workers = 2)\n",
    "    \n",
    "    return lda_model, bow_corpus, dic\n",
    "\n",
    "def plot_lda_vis(lda_model, bow_corpus, dic):\n",
    "    pyLDAvis.enable_notebook()\n",
    "    vis = pyLDAvis.gensim.prepare(lda_model, bow_corpus, dic)\n",
    "    return vis"
   ]
  },
  {
   "cell_type": "code",
   "execution_count": 29,
   "metadata": {},
   "outputs": [],
   "source": [
    "lda_model, bow_corpus, dic = get_lda_objects(df_cbd[~df_cbd['text'].isnull()]['text'])"
   ]
  },
  {
   "cell_type": "code",
   "execution_count": 30,
   "metadata": {},
   "outputs": [
    {
     "data": {
      "text/plain": [
       "[(0,\n",
       "  '0.016*\"http\" + 0.014*\"n\\'t\" + 0.014*\"Islam\" + 0.011*\"woman\" + 0.011*\"sexist\" + 0.008*\"...\" + 0.007*\"Muslims\" + 0.007*\"The\" + 0.004*\"And\" + 0.004*\"ISIS\"'),\n",
       " (1,\n",
       "  '0.022*\"n\\'t\" + 0.015*\"http\" + 0.010*\"MKR\" + 0.010*\"sexist\" + 0.010*\"mkr\" + 0.008*\"woman\" + 0.008*\"like\" + 0.007*\"girl\" + 0.005*\"get\" + 0.005*\"\\'ve\"'),\n",
       " (2,\n",
       "  '0.030*\"mkr\" + 0.022*\"Kat\" + 0.018*\"http\" + 0.017*\"MKR\" + 0.011*\"Andre\" + 0.011*\"amp\" + 0.011*\"n\\'t\" + 0.007*\"...\" + 0.006*\"The\" + 0.005*\"think\"'),\n",
       " (3,\n",
       "  '0.030*\"MKR\" + 0.014*\"mkr\" + 0.013*\"http\" + 0.004*\"...\" + 0.004*\"\\'re\" + 0.004*\"Colin\" + 0.004*\"round\" + 0.004*\"going\" + 0.004*\"one\" + 0.003*\"like\"')]"
      ]
     },
     "execution_count": 30,
     "metadata": {},
     "output_type": "execute_result"
    }
   ],
   "source": [
    "lda_model.show_topics()"
   ]
  },
  {
   "cell_type": "code",
   "execution_count": 31,
   "metadata": {},
   "outputs": [
    {
     "data": {
      "text/html": [
       "\n",
       "<link rel=\"stylesheet\" type=\"text/css\" href=\"https://cdn.jsdelivr.net/gh/bmabey/pyLDAvis@3.4.0/pyLDAvis/js/ldavis.v1.0.0.css\">\n",
       "\n",
       "\n",
       "<div id=\"ldavis_el138971398184782967525910480098\" style=\"background-color:white;\"></div>\n",
       "<script type=\"text/javascript\">\n",
       "\n",
       "var ldavis_el138971398184782967525910480098_data = {\"mdsDat\": {\"x\": [0.004845961757586869, -0.1778089811856736, 0.07755537905280703, 0.09540764037527955], \"y\": [0.07082893804244138, -0.013919726764209477, -0.14627204683454093, 0.08936283555630908], \"topics\": [1, 2, 3, 4], \"cluster\": [1, 1, 1, 1], \"Freq\": [28.734290016329545, 27.17664612819803, 22.56640090136052, 21.52266295411191]}, \"tinfo\": {\"Term\": [\"Kat\", \"MKR\", \"mkr\", \"Andre\", \"Islam\", \"sexist\", \"amp\", \"Muslims\", \"woman\", \"n't\", \"Mohammed\", \"Colin\", \"round\", \"Annie\", \"MaxBlumenthal\", \"halalflaws\", \"restaurant\", \"mykitchenrules\", \"Quran\", \"prophet\", \"female\", \"greenlinerzjm\", \"Muslim\", \"instant\", \"war\", \"religion\", \"BilalIGhumman\", \"tonight\", \"'ve\", \"biebervalue\", \"RJennromao\", \"DavidJo52951945\", \"Tony\", \"GBabeuf\", \"Novorossiyan\", \"gbazov\", \"rougek68\", \"NewsCoverUp\", \"egg\", \"Lynn\", \"WomenAgainstFeminism\", \"equality\", \"basketball\", \"SueKennedy19\", \"pant\", \"randi_ebooks\", \"Robert\", \"troll\", \"wing\", \"MisGrace\", \"slap\", \"tummala82\", \"Kats\", \"YusufPeaceful\", \"mshaysoul\", \"AnthonySammarco\", \"leg\", \"staying\", \"version\", \"remind\", \"post\", \"Jac\", \"paid\", \"//t.co/xWJzpSodGj\", \"unless\", \"Putin\", \"weird\", \"lol\", \"Ash\", \"football\", \"'ve\", \"girl\", \"game\", \"feel\", \"n't\", \"really\", \"sexist\", \"men\", \"notsexist\", \"Yeah\", \"like\", \"YesYoureSexist\", \"get\", \"time\", \"woman\", \"http\", \"look\", \"see\", \"one\", \"know\", \"make\", \"MKR\", \"mkr\", \"want\", \"This\", \"would\", \"thing\", \"people\", \"need\", \"think\", \"amp\", \"'re\", \"...\", \"ever\", \"ISIS\", \"good\", \"BilalIGhumman\", \"humanity\", \"johnnygjokaj\", \"98Halima\", \"cdnKhadija\", \"rfrankh53\", \"prophet\", \"1400\", \"Mohammed\", \"slavery\", \"SirajZarook\", \"liar\", \"Hadiths\", \"KAT\", \"war\", \"race\", \"comedian\", \"riwired\", \"slave\", \"pedophile\", \"OdiniaInvictus\", \"DianH4\", \"non\", \"Number10gov\", \"Salon\", \"commentator\", \"buttercupashby\", \"truaemusic\", \"ibnHlophe\", \"nyazpolitics\", \"ago\", \"asem_1994\", \"BDSSupporter\", \"Muslims\", \"Quran\", \"Islam\", \"MaxBlumenthal\", \"sport\", \"religion\", \"sexism\", \"follow\", \"female\", \"woman\", \"sexist\", \"Jews\", \"The\", \"But\", \"http\", \"n't\", \"...\", \"Muslim\", \"ISIS\", \"And\", \"year\", \"You\", \"hate\", \"MT8_9\", \"people\", \"know\", \"world\", \"like\", \"would\", \"men\", \"one\", \"Andre\", \"sajid_fairooz\", \"Lloyd\", \"Vandaliser\", \"dankmtl\", \"batchelorshow\", \"FearDept\", \"edgeofthesandbx\", \"deserve\", \"PoliticalAnt\", \"strategic\", \"katandandre\", \"voting\", \"AAlwuhaib1977\", \"Qoloob4\", \"PeaceNotHate_\", \"smile\", \"strategically\", \"pork\", \"fair\", \"karma\", \"Annie\", \"Pakistan\", \"MadDr11\", \"scored\", \"ZaibatsuNews\", \"isra_jourisra\", \"ListenToRaisin\", \"//t.co/8cmfoOZwxz\", \"mob\", \"Kat\", \"Lithobolos\", \"eliminated\", \"nasty\", \"score\", \"kat\", \"amp\", \"mkr\", \"mkr2015\", \"scoring\", \"mykitchenrules\", \"food\", \"team\", \"Katie\", \"MKR\", \"http\", \"Nikki\", \"think\", \"The\", \"n't\", \"...\", \"IsraeliRegime\", \"people\", \"even\", \"Muslim\", \"cook\", \"like\", \"want\", \"Islam\", \"face\", \"They\", \"And\", \"get\", \"would\", \"one\", \"make\", \"way\", \"still\", \"halalflaws\", \"restaurant\", \"instant\", \"biebervalue\", \"haroonstyles\", \"AMohedin\", \"tart\", \"lemon\", \"islamdefense\", \"Celine\", \"Colin\", \"puppy\", \"elimination\", \"33:33\", \"Pretty\", \"round\", \"sassy\", \"Vicky\", \"yup\", \"deconstructed\", \"Ugh\", \"helenaandvikki\", \"liamxkiwi\", \"Our\", \"decided\", \"menu\", \"pie\", \"Adam\", \"jasonbentley\", \"halalcunty\", \"hat\", \"strike\", \"sock\", \"served\", \"tonight\", \"harassment\", \"verse\", \"dessert\", \"Fuck\", \"Will\", \"MKR2015\", \"MKR\", \"greenlinerzjm\", \"announcement\", \"dinner\", \"getting\", \"next\", \"mkr\", \"going\", \"'re\", \"got\", \"http\", \"another\", \"sure\", \"Daesh\", \"anyone\", \"one\", \"...\", \"cook\", \"show\", \"And\", \"time\", \"get\", \"mykitchenrules\", \"like\", \"The\", \"woman\", \"ISIS\", \"say\", \"see\", \"think\", \"n't\", \"You\"], \"Freq\": [817.0, 2128.0, 2025.0, 394.0, 759.0, 945.0, 605.0, 388.0, 958.0, 2096.0, 176.0, 143.0, 141.0, 129.0, 206.0, 109.0, 106.0, 205.0, 164.0, 116.0, 218.0, 147.0, 271.0, 88.0, 108.0, 163.0, 102.0, 113.0, 328.0, 78.0, 41.2835246472911, 39.78840177664728, 40.600054634647414, 37.354789346880494, 37.354786675959396, 37.354786675959396, 37.354786675959396, 37.354786675959396, 35.85239622900671, 28.900501426612347, 27.307753718899356, 38.199398700314305, 20.84438240455503, 22.143543800587793, 18.53400627427037, 21.990461293291123, 20.019373605602137, 43.11839936534118, 21.253336482161373, 17.395778558103153, 16.739204720920775, 16.413066558353282, 16.98479858684364, 15.963055081621686, 15.351080284941098, 14.283817606898939, 13.807995684132544, 13.582632710069829, 14.028799395880219, 13.136066721555222, 39.186937054489064, 18.46259786324297, 27.813078636119144, 19.2387621926081, 19.54209603083709, 68.75519279400186, 53.34311267755399, 67.42392559090527, 35.83018484915206, 74.08830107889453, 220.87506807574033, 307.6845122899287, 68.24252017284026, 74.28849195706498, 1026.412499659405, 180.27277253829135, 467.231535390634, 161.59978622012406, 76.45126497468641, 61.84761925631505, 371.5236718122441, 94.50416490879712, 238.16300018173058, 185.3877787481274, 372.4014005872986, 699.6951318261894, 134.74154852209256, 154.99846583742683, 212.3876714175359, 181.21047951753246, 154.91809247973254, 476.73155302304866, 456.7096874480617, 157.75086071305603, 123.27783764704994, 174.0961927123528, 129.63795248718904, 195.94981871138907, 126.36500577315786, 163.33484861672537, 173.5764742013335, 138.46952403813876, 192.93590860916922, 98.32170175111628, 107.1613181164145, 100.42653714827031, 101.98824929020235, 68.21891033018278, 66.37980872679566, 66.37980872679566, 65.35616350623093, 63.27440143552602, 115.40110326737636, 59.698006496020575, 174.33437310640014, 50.52589048332567, 53.27451160883401, 51.701674672292235, 61.478754395524284, 41.89130049809986, 106.3163460333696, 39.0556262561618, 41.7225572485021, 37.639700155841595, 72.69668558687817, 37.980945542975576, 37.83220169916331, 47.63256227672392, 43.72615314348128, 31.10510335304912, 30.543725564884465, 29.094702052084582, 27.732572509249277, 45.32289741567468, 27.132057321332855, 27.311895353071566, 58.31618068352384, 27.992418268667446, 28.848800554373618, 320.10827105670114, 143.59334886903054, 591.6358256155445, 168.23118195244308, 87.60941163553039, 131.79412889842936, 67.00279387990874, 59.35593758908287, 153.63918907986277, 474.28722431908244, 463.9331047746088, 96.5912541554155, 318.5104203376549, 163.50214726704377, 684.936719025858, 604.8468616658504, 348.15074720398997, 151.25998479195195, 181.48598075452716, 190.06257069468097, 125.60323035924146, 171.82101087451355, 121.32739428386382, 94.41763678684875, 164.90863825550232, 142.22698299886136, 86.54440349083636, 156.69887333908525, 116.00042359373707, 98.03537444140855, 97.84231714852604, 393.19588328683756, 76.19237036613409, 79.0505195751626, 64.23625007019548, 46.79055685613782, 43.720088471033144, 43.29289104562638, 42.865697815421676, 41.816297387418885, 50.35408733893529, 53.38127382442373, 40.65814893170919, 32.779196584746636, 28.185167156811644, 27.426894873116183, 24.140944129584785, 25.811970719900835, 42.252027853808436, 23.280879463191987, 35.730401668189955, 22.087206036468405, 125.50154194806491, 21.59411247476019, 20.948470878274865, 24.748732417914898, 43.87544519358703, 20.20907700383336, 18.70490198970584, 18.200770851387144, 18.24967222415798, 778.8215412436466, 46.00657847184156, 28.512418088425903, 25.38903561978341, 73.6355709112234, 59.170442902201025, 382.56789264353125, 1076.540465447289, 89.49106020018326, 40.07108913673992, 125.23455089878928, 75.55568133083719, 94.12869665589386, 71.4523290282259, 606.5467434527246, 651.1738933411877, 74.91754075562876, 175.16728892398447, 209.63570669036594, 381.10182055208134, 236.13240150910983, 70.91928665493529, 158.46179296556213, 97.14367090819601, 105.93736818515495, 85.55721084146018, 170.83433321282453, 113.0821664650445, 148.17049245849708, 74.98960593655421, 92.93948272895626, 102.90377562612633, 105.28943600834681, 97.1415061839349, 88.39647325083061, 82.13989993113768, 78.96698471181486, 76.45289241383868, 108.8898167807434, 105.90898799509934, 87.61423184667811, 78.06937792505224, 63.437417326772234, 60.00922215272822, 58.22049281370388, 48.72287265872525, 37.67895782418209, 46.900529522699344, 141.20779610620693, 36.02357935130084, 30.041121717673395, 25.76739810781589, 27.825331908566316, 137.1389462083801, 20.029047621107676, 19.61093575916612, 35.72678884940962, 43.14833591680213, 18.227894661122747, 17.93833226591923, 17.595474337319587, 20.307104662986827, 16.575116946252567, 16.658621284238837, 15.234592239940964, 15.155777268706967, 14.434711108387956, 14.167233149864613, 23.376071137043038, 19.97845087429381, 16.362367938906065, 21.849924329731962, 96.5920164915698, 53.38220665771826, 34.33186228725565, 47.14167980781829, 36.35450380179583, 45.1879623817377, 90.70641308685776, 1038.331813851802, 106.82387864706813, 25.44403586138386, 25.27714121864719, 71.40633993100585, 63.2963081994238, 491.35975460737484, 122.57664591313511, 142.3182157466143, 93.6372032883688, 429.8179777797129, 63.37099396716945, 75.12868883843446, 75.91739071170602, 62.040262115061076, 120.32950296591302, 144.9342582124592, 74.56618089113508, 72.59134130883841, 102.37931124346329, 96.2514052177751, 105.98937142347232, 76.33233565062332, 111.53348329783208, 107.4851113684678, 111.35690383237879, 87.29261810986274, 81.03519433522317, 80.05576487291808, 80.50172685199205, 84.55097103558157, 76.47164025202869], \"Total\": [817.0, 2128.0, 2025.0, 394.0, 759.0, 945.0, 605.0, 388.0, 958.0, 2096.0, 176.0, 143.0, 141.0, 129.0, 206.0, 109.0, 106.0, 205.0, 164.0, 116.0, 218.0, 147.0, 271.0, 88.0, 108.0, 163.0, 102.0, 113.0, 328.0, 78.0, 41.91790055558013, 40.42305750754024, 41.25799762135827, 37.988355886581395, 37.98835335401647, 37.9883534477938, 37.98835380320367, 37.98835418800468, 36.507829522760495, 29.53775955843526, 27.97553734365551, 39.325604161298884, 21.48312829589661, 22.858353786571175, 19.174551860837067, 22.758079356810896, 20.741300767354883, 44.68001530271241, 22.025367829373177, 18.028821504786215, 17.392657828175842, 17.075752575282536, 17.678862097222876, 16.626415742250312, 16.002816109567373, 14.91788416548387, 14.456025226910475, 14.23122060126221, 14.70751206168372, 13.775486290146711, 41.46473116416875, 19.394060093997588, 29.34045986257035, 20.257914818729287, 20.58742103085566, 76.14033785304113, 60.15035176396927, 79.33600870028275, 39.9613927173182, 91.94934851008448, 328.38835253330706, 484.1248908553066, 87.44420392133868, 96.79791843475851, 2096.9121529129184, 285.0918790610395, 945.3725648998692, 274.27729165269704, 107.64698489399898, 83.69577521027985, 810.5903616619859, 145.9763649009684, 508.85849368189616, 365.8839199525303, 958.908642137147, 2465.6237219729483, 248.67843372171205, 321.8314396421142, 518.9559647828055, 421.23743053145444, 356.85758486259454, 2128.6303697246767, 2025.0316471352298, 374.9644150881576, 250.66612060588108, 456.0270835656846, 282.71849343049627, 571.2678704689321, 298.522864369693, 507.50152549898127, 605.0908137228364, 385.61160502602354, 922.1533155347282, 185.3440065959423, 377.67030712231974, 241.60374214746386, 102.63460384263043, 68.86641835468535, 67.01616357072389, 67.0161663277144, 65.99440950752137, 63.910692022839484, 116.61534471292735, 60.34002751572148, 176.22914201978895, 51.20961749116475, 54.00204204225207, 52.47823509094326, 62.40424089446956, 42.53674084658095, 108.00481538348377, 39.70627769195147, 42.43297205384452, 38.286939264946945, 73.95596711831134, 38.65183082796475, 38.51585868969843, 48.51029622998308, 44.59112315737165, 31.746926730809946, 31.181510167926493, 29.743489802643815, 28.377029657588754, 46.385601564216316, 27.768716891246306, 27.956116785122603, 60.034858978426236, 28.687684726548923, 29.616012571074886, 388.0971423976731, 164.77051905734697, 759.744151879601, 206.5732960796401, 101.85312596976777, 163.32807231084826, 75.75134086323312, 65.96807658990997, 218.05340148499425, 958.908642137147, 945.3725648998692, 134.21724676952135, 730.9799592402976, 290.1370718497868, 2465.6237219729483, 2096.9121529129184, 922.1533155347282, 271.7684985323746, 377.67030712231974, 420.0068196050134, 228.75215983366223, 414.88273077191184, 225.3072540278372, 140.95661646693176, 571.2678704689321, 421.23743053145444, 133.66525309181168, 810.5903616619859, 456.0270835656846, 274.27729165269704, 518.9559647828055, 394.6064707916279, 76.84333993774698, 79.74593816373144, 64.88351005445557, 47.457114785615666, 44.36692466237583, 43.93975778058452, 43.512593983608085, 42.52482552058186, 51.21898564092661, 54.30325489860695, 41.41423540324002, 33.46413028026637, 28.837206280304038, 28.074214390719238, 24.789555245801232, 26.519920762012042, 43.411346346693115, 23.933799818477933, 36.772740080668314, 22.735415942547426, 129.2824303891562, 22.252271643302322, 21.612203236128536, 25.53795192683665, 45.298857591265595, 20.868561484148007, 19.37119711176167, 18.85642775348665, 18.926426715770656, 817.7827724789677, 47.93902611148781, 29.65182135378577, 26.556226544141904, 83.45399636693533, 68.73691250703672, 605.0908137228364, 2025.0316471352298, 130.75703794681775, 47.344299517436646, 205.29622980464757, 110.4093742283732, 149.68856929906906, 105.4246321783397, 2128.6303697246767, 2465.6237219729483, 119.16220564277657, 507.50152549898127, 730.9799592402976, 2096.9121529129184, 922.1533155347282, 115.13893597608724, 571.2678704689321, 225.36782131936044, 271.7684985323746, 179.96530320877065, 810.5903616619859, 374.9644150881576, 759.744151879601, 139.00612659323332, 276.99938248287685, 420.0068196050134, 508.85849368189616, 456.0270835656846, 518.9559647828055, 356.85758486259454, 223.765234781914, 234.36089122122354, 109.53992526204644, 106.56779920089998, 88.26823076879667, 78.72788768721232, 64.0851024772675, 60.662920124254406, 58.89465107596868, 49.42561002690709, 38.32659010038832, 47.72310643808588, 143.6933704229505, 36.736843905098866, 30.701756048808466, 26.414972899464296, 28.54067635688204, 141.2657236927326, 20.684746120277904, 20.273484814479538, 36.94021385550664, 44.70952291459299, 18.891989014335017, 18.594883825822112, 18.244765123372794, 21.153004041701877, 17.26874104690605, 17.387251694254495, 15.90406352440981, 15.829186909102502, 15.089076459822559, 14.815901798389932, 24.45969341491265, 20.979631251352686, 17.14370995924458, 23.31789150134149, 113.68160874445557, 62.4297788364653, 38.72962241185448, 55.15992880019321, 41.27383275026734, 53.33312231039116, 121.75728518847995, 2128.6303697246767, 147.59864572426605, 28.093338686969485, 27.888474788732072, 114.25237944858651, 99.84110689153698, 2025.0316471352298, 302.0211486286856, 385.61160502602354, 199.91652815099667, 2465.6237219729483, 108.95264032521627, 150.9022809383771, 154.31383142044888, 114.1121499133327, 518.9559647828055, 922.1533155347282, 179.96530320877065, 168.63581767978877, 420.0068196050134, 365.8839199525303, 508.85849368189616, 205.29622980464757, 810.5903616619859, 730.9799592402976, 958.908642137147, 377.67030712231974, 293.20156074784916, 321.8314396421142, 507.50152549898127, 2096.9121529129184, 414.88273077191184], \"Category\": [\"Default\", \"Default\", \"Default\", \"Default\", \"Default\", \"Default\", \"Default\", \"Default\", \"Default\", \"Default\", \"Default\", \"Default\", \"Default\", \"Default\", \"Default\", \"Default\", \"Default\", \"Default\", \"Default\", \"Default\", \"Default\", \"Default\", \"Default\", \"Default\", \"Default\", \"Default\", \"Default\", \"Default\", \"Default\", \"Default\", \"Topic1\", \"Topic1\", \"Topic1\", \"Topic1\", \"Topic1\", \"Topic1\", \"Topic1\", \"Topic1\", \"Topic1\", \"Topic1\", \"Topic1\", \"Topic1\", \"Topic1\", \"Topic1\", \"Topic1\", \"Topic1\", \"Topic1\", \"Topic1\", \"Topic1\", \"Topic1\", \"Topic1\", \"Topic1\", \"Topic1\", \"Topic1\", \"Topic1\", \"Topic1\", \"Topic1\", \"Topic1\", \"Topic1\", \"Topic1\", \"Topic1\", \"Topic1\", \"Topic1\", \"Topic1\", \"Topic1\", \"Topic1\", \"Topic1\", \"Topic1\", \"Topic1\", \"Topic1\", \"Topic1\", \"Topic1\", \"Topic1\", \"Topic1\", \"Topic1\", \"Topic1\", \"Topic1\", \"Topic1\", \"Topic1\", \"Topic1\", \"Topic1\", \"Topic1\", \"Topic1\", \"Topic1\", \"Topic1\", \"Topic1\", \"Topic1\", \"Topic1\", \"Topic1\", \"Topic1\", \"Topic1\", \"Topic1\", \"Topic1\", \"Topic1\", \"Topic1\", \"Topic1\", \"Topic1\", \"Topic1\", \"Topic1\", \"Topic1\", \"Topic1\", \"Topic1\", \"Topic1\", \"Topic1\", \"Topic1\", \"Topic1\", \"Topic2\", \"Topic2\", \"Topic2\", \"Topic2\", \"Topic2\", \"Topic2\", \"Topic2\", \"Topic2\", \"Topic2\", \"Topic2\", \"Topic2\", \"Topic2\", \"Topic2\", \"Topic2\", \"Topic2\", \"Topic2\", \"Topic2\", \"Topic2\", \"Topic2\", \"Topic2\", \"Topic2\", \"Topic2\", \"Topic2\", \"Topic2\", \"Topic2\", \"Topic2\", \"Topic2\", \"Topic2\", \"Topic2\", \"Topic2\", \"Topic2\", \"Topic2\", \"Topic2\", \"Topic2\", \"Topic2\", \"Topic2\", \"Topic2\", \"Topic2\", \"Topic2\", \"Topic2\", \"Topic2\", \"Topic2\", \"Topic2\", \"Topic2\", \"Topic2\", \"Topic2\", \"Topic2\", \"Topic2\", \"Topic2\", \"Topic2\", \"Topic2\", \"Topic2\", \"Topic2\", \"Topic2\", \"Topic2\", \"Topic2\", \"Topic2\", \"Topic2\", \"Topic2\", \"Topic2\", \"Topic2\", \"Topic2\", \"Topic2\", \"Topic2\", \"Topic3\", \"Topic3\", \"Topic3\", \"Topic3\", \"Topic3\", \"Topic3\", \"Topic3\", \"Topic3\", \"Topic3\", \"Topic3\", \"Topic3\", \"Topic3\", \"Topic3\", \"Topic3\", \"Topic3\", \"Topic3\", \"Topic3\", \"Topic3\", \"Topic3\", \"Topic3\", \"Topic3\", \"Topic3\", \"Topic3\", \"Topic3\", \"Topic3\", \"Topic3\", \"Topic3\", \"Topic3\", \"Topic3\", \"Topic3\", \"Topic3\", \"Topic3\", \"Topic3\", \"Topic3\", \"Topic3\", \"Topic3\", \"Topic3\", \"Topic3\", \"Topic3\", \"Topic3\", \"Topic3\", \"Topic3\", \"Topic3\", \"Topic3\", \"Topic3\", \"Topic3\", \"Topic3\", \"Topic3\", \"Topic3\", \"Topic3\", \"Topic3\", \"Topic3\", \"Topic3\", \"Topic3\", \"Topic3\", \"Topic3\", \"Topic3\", \"Topic3\", \"Topic3\", \"Topic3\", \"Topic3\", \"Topic3\", \"Topic3\", \"Topic3\", \"Topic3\", \"Topic3\", \"Topic3\", \"Topic3\", \"Topic4\", \"Topic4\", \"Topic4\", \"Topic4\", \"Topic4\", \"Topic4\", \"Topic4\", \"Topic4\", \"Topic4\", \"Topic4\", \"Topic4\", \"Topic4\", \"Topic4\", \"Topic4\", \"Topic4\", \"Topic4\", \"Topic4\", \"Topic4\", \"Topic4\", \"Topic4\", \"Topic4\", \"Topic4\", \"Topic4\", \"Topic4\", \"Topic4\", \"Topic4\", \"Topic4\", \"Topic4\", \"Topic4\", \"Topic4\", \"Topic4\", \"Topic4\", \"Topic4\", \"Topic4\", \"Topic4\", \"Topic4\", \"Topic4\", \"Topic4\", \"Topic4\", \"Topic4\", \"Topic4\", \"Topic4\", \"Topic4\", \"Topic4\", \"Topic4\", \"Topic4\", \"Topic4\", \"Topic4\", \"Topic4\", \"Topic4\", \"Topic4\", \"Topic4\", \"Topic4\", \"Topic4\", \"Topic4\", \"Topic4\", \"Topic4\", \"Topic4\", \"Topic4\", \"Topic4\", \"Topic4\", \"Topic4\", \"Topic4\", \"Topic4\", \"Topic4\", \"Topic4\", \"Topic4\", \"Topic4\", \"Topic4\", \"Topic4\", \"Topic4\", \"Topic4\", \"Topic4\"], \"logprob\": [30.0, 29.0, 28.0, 27.0, 26.0, 25.0, 24.0, 23.0, 22.0, 21.0, 20.0, 19.0, 18.0, 17.0, 16.0, 15.0, 14.0, 13.0, 12.0, 11.0, 10.0, 9.0, 8.0, 7.0, 6.0, 5.0, 4.0, 3.0, 2.0, 1.0, -7.0135, -7.0503, -7.0301, -7.1135, -7.1135, -7.1135, -7.1135, -7.1135, -7.1545, -7.3701, -7.4267, -7.0911, -7.6968, -7.6364, -7.8143, -7.6433, -7.7372, -6.97, -7.6774, -7.8777, -7.9162, -7.9358, -7.9016, -7.9636, -8.0027, -8.0748, -8.1087, -8.1251, -8.0928, -8.1586, -7.0656, -7.8182, -7.4084, -7.777, -7.7613, -6.5034, -6.7572, -6.5229, -7.1551, -6.4287, -5.3363, -5.0048, -6.5108, -6.426, -3.8001, -5.5394, -4.5871, -5.6488, -6.3973, -6.6092, -4.8163, -6.1853, -5.261, -5.5115, -4.8139, -4.1833, -5.8306, -5.6905, -5.3755, -5.5343, -5.691, -4.567, -4.6099, -5.6729, -5.9195, -5.5743, -5.8692, -5.4561, -5.8947, -5.6381, -5.5773, -5.8033, -5.4716, -6.1457, -6.0596, -6.1245, -6.0533, -6.4555, -6.4828, -6.4828, -6.4983, -6.5307, -5.9298, -6.5889, -5.5172, -6.7557, -6.7027, -6.7327, -6.5595, -6.9431, -6.0118, -7.0132, -6.9471, -7.0501, -6.3919, -7.0411, -7.045, -6.8147, -6.9002, -7.2408, -7.259, -7.3076, -7.3556, -6.8644, -7.3775, -7.3709, -6.6123, -7.3463, -7.3161, -4.9095, -5.7112, -4.2953, -5.5528, -6.2053, -5.7969, -6.4734, -6.5946, -5.6436, -4.5164, -4.5384, -6.1077, -4.9145, -5.5814, -4.1489, -4.2732, -4.8255, -5.6592, -5.477, -5.4308, -5.8451, -5.5317, -5.8797, -6.1305, -5.5728, -5.7208, -6.2175, -5.6239, -5.9246, -6.0929, -6.0948, -4.518, -6.159, -6.1222, -6.3297, -6.6466, -6.7145, -6.7243, -6.7342, -6.759, -6.5732, -6.5148, -6.7871, -7.0025, -7.1535, -7.1808, -7.3084, -7.2414, -6.7486, -7.3447, -6.9163, -7.3973, -5.66, -7.4199, -7.4502, -7.2835, -6.7109, -7.4862, -7.5635, -7.5908, -7.5881, -3.8345, -6.6635, -7.1419, -7.258, -6.1932, -6.4119, -4.5454, -3.5108, -5.9981, -6.8016, -5.6621, -6.1674, -5.9476, -6.2233, -4.0845, -4.0135, -6.1759, -5.3265, -5.1469, -4.5492, -5.0279, -6.2307, -5.4268, -5.9161, -5.8294, -6.0431, -5.3516, -5.7642, -5.4939, -6.1749, -5.9603, -5.8585, -5.8356, -5.9161, -6.0105, -6.0839, -6.1233, -6.1556, -5.7546, -5.7824, -5.972, -6.0873, -6.2949, -6.3504, -6.3807, -6.5588, -6.8158, -6.5969, -5.4947, -6.8608, -7.0424, -7.1958, -7.119, -5.5239, -7.4477, -7.4688, -6.869, -6.6803, -7.542, -7.558, -7.5773, -7.434, -7.637, -7.632, -7.7214, -7.7266, -7.7753, -7.794, -7.2932, -7.4503, -7.6499, -7.3607, -5.8744, -6.4675, -6.9089, -6.5918, -6.8516, -6.6341, -5.9373, -3.4996, -5.7738, -7.2085, -7.215, -6.1765, -6.2971, -4.2478, -5.6362, -5.4869, -5.9055, -4.3816, -6.2959, -6.1257, -6.1153, -6.3171, -5.6547, -5.4687, -6.1332, -6.1601, -5.8162, -5.878, -5.7816, -6.1098, -5.7306, -5.7676, -5.7322, -5.9757, -6.05, -6.0622, -6.0567, -6.0076, -6.108], \"loglift\": [30.0, 29.0, 28.0, 27.0, 26.0, 25.0, 24.0, 23.0, 22.0, 21.0, 20.0, 19.0, 18.0, 17.0, 16.0, 15.0, 14.0, 13.0, 12.0, 11.0, 10.0, 9.0, 8.0, 7.0, 6.0, 5.0, 4.0, 3.0, 2.0, 1.0, 1.2318, 1.2313, 1.231, 1.2303, 1.2303, 1.2303, 1.2303, 1.2303, 1.229, 1.2253, 1.2229, 1.218, 1.2169, 1.2153, 1.2131, 1.2128, 1.2117, 1.2115, 1.2114, 1.2113, 1.2088, 1.2075, 1.207, 1.2064, 1.2055, 1.2036, 1.2012, 1.2004, 1.1998, 1.1995, 1.1906, 1.1979, 1.1936, 1.1955, 1.195, 1.1451, 1.127, 1.0844, 1.138, 1.0311, 0.8505, 0.7938, 0.9991, 0.9824, 0.5327, 0.7887, 0.5423, 0.7181, 0.9049, 0.9446, 0.4669, 0.8123, 0.4879, 0.5672, 0.3013, -0.0125, 0.6343, 0.5165, 0.3537, 0.4035, 0.4126, -0.2492, -0.2422, 0.3813, 0.5374, 0.2841, 0.4674, 0.1771, 0.3874, 0.1134, -0.0017, 0.2229, -0.3173, 0.6131, -0.0126, 0.3692, 1.2965, 1.2934, 1.2933, 1.2933, 1.2931, 1.2928, 1.2923, 1.2921, 1.292, 1.2894, 1.2892, 1.2879, 1.2879, 1.2875, 1.2871, 1.2863, 1.2859, 1.2858, 1.2856, 1.2853, 1.2849, 1.2846, 1.2832, 1.2824, 1.2821, 1.2808, 1.2798, 1.2796, 1.2796, 1.2795, 1.2738, 1.2783, 1.2766, 1.1102, 1.1652, 1.0527, 1.0975, 1.1522, 1.0883, 1.1801, 1.1972, 0.9527, 0.5988, 0.591, 0.9738, 0.4721, 0.7293, 0.0219, 0.0596, 0.3287, 0.7169, 0.57, 0.5099, 0.7033, 0.4213, 0.6838, 0.9021, 0.0603, 0.217, 0.8681, -0.3406, -0.0661, 0.274, -0.3656, 1.4851, 1.4802, 1.4799, 1.4787, 1.4746, 1.474, 1.4739, 1.4737, 1.4719, 1.4717, 1.4716, 1.4703, 1.468, 1.4658, 1.4654, 1.4622, 1.4617, 1.4616, 1.461, 1.46, 1.4598, 1.459, 1.4587, 1.4575, 1.4573, 1.4568, 1.4566, 1.4537, 1.4533, 1.4523, 1.4399, 1.4476, 1.4495, 1.4438, 1.3635, 1.3388, 1.0302, 0.8569, 1.1095, 1.3219, 0.9944, 1.1094, 1.0248, 1.0997, 0.2333, 0.1573, 1.0246, 0.4249, 0.2397, -0.2164, 0.1264, 1.0041, 0.2064, 0.6472, 0.5466, 0.7451, -0.0684, 0.29, -0.1459, 0.8715, 0.3966, 0.0822, -0.0867, -0.0577, -0.2813, 0.0198, 0.4471, 0.3685, 1.5301, 1.5299, 1.5286, 1.5277, 1.5259, 1.5252, 1.5246, 1.5217, 1.519, 1.5187, 1.5186, 1.5165, 1.5143, 1.5112, 1.5107, 1.5064, 1.5039, 1.5028, 1.5027, 1.5005, 1.5003, 1.5001, 1.4998, 1.4953, 1.4951, 1.4933, 1.4931, 1.4926, 1.4917, 1.4913, 1.4908, 1.4872, 1.4894, 1.471, 1.3732, 1.3795, 1.4155, 1.379, 1.4092, 1.3703, 1.2417, 0.8182, 1.2127, 1.437, 1.4378, 1.066, 1.0803, 0.1199, 0.6343, 0.5393, 0.7776, -0.2108, 0.9942, 0.8386, 0.8267, 0.9267, 0.0745, -0.3144, 0.655, 0.6932, 0.1245, 0.2007, -0.0328, 0.5467, -0.4474, -0.381, -0.617, 0.0713, 0.2501, 0.1448, -0.3052, -1.6748, -0.155]}, \"token.table\": {\"Topic\": [1, 2, 3, 4, 1, 2, 3, 4, 1, 2, 3, 4, 3, 1, 2, 2, 4, 2, 3, 4, 4, 1, 2, 3, 4, 1, 3, 3, 4, 1, 1, 3, 2, 2, 1, 2, 3, 4, 4, 3, 4, 1, 2, 3, 4, 1, 2, 3, 1, 4, 1, 2, 1, 2, 3, 4, 1, 2, 3, 4, 2, 3, 1, 4, 2, 3, 2, 1, 3, 4, 1, 2, 3, 4, 1, 3, 2, 3, 3, 1, 1, 2, 3, 4, 1, 3, 4, 1, 2, 3, 4, 3, 2, 3, 4, 1, 2, 3, 1, 2, 3, 4, 2, 3, 1, 1, 2, 3, 4, 1, 2, 2, 4, 3, 3, 3, 4, 1, 3, 4, 3, 2, 4, 1, 1, 2, 2, 1, 1, 2, 3, 4, 1, 2, 3, 4, 1, 2, 3, 4, 1, 4, 3, 4, 1, 2, 4, 1, 1, 2, 3, 4, 1, 2, 3, 4, 1, 2, 3, 4, 1, 2, 3, 1, 2, 1, 2, 3, 4, 3, 4, 1, 2, 3, 4, 1, 2, 3, 4, 2, 1, 3, 4, 2, 2, 2, 2, 1, 3, 4, 3, 4, 1, 4, 3, 1, 3, 4, 1, 4, 3, 1, 3, 4, 4, 1, 2, 1, 2, 3, 4, 1, 2, 3, 4, 1, 2, 3, 4, 3, 1, 2, 3, 4, 1, 2, 4, 1, 2, 3, 1, 3, 4, 1, 2, 1, 2, 1, 1, 2, 3, 4, 1, 2, 3, 4, 1, 2, 3, 4, 1, 2, 3, 4, 1, 2, 3, 4, 1, 2, 3, 4, 2, 4, 4, 4, 1, 2, 4, 4, 1, 4, 1, 2, 3, 4, 4, 1, 2, 3, 4, 2, 2, 4, 4, 3, 4, 2, 3, 1, 3, 4, 3, 1, 2, 3, 4, 1, 4, 4, 2, 1, 2, 3, 4, 1, 2, 4, 1, 2, 3, 4, 1, 2, 3, 4, 1, 2, 3, 4, 4, 1, 3, 4, 1, 3, 4, 3, 1, 1, 3, 4, 1, 2, 3, 4, 1, 3, 1, 2, 3, 4, 1, 3, 4, 2, 1, 2, 4, 2, 1, 2, 3, 4, 1, 2, 1, 2, 1, 2, 3, 4, 4, 3, 1, 2, 3, 4, 2, 3, 4, 2, 1, 1, 2, 3, 4, 2, 3, 1, 4, 2, 2, 1, 3, 4, 3, 4, 1, 2, 3, 4, 1, 3, 4, 3, 1, 3, 1, 2, 3, 4, 1, 4, 1, 2, 3, 1, 2, 4, 1, 2, 3, 4, 1, 1, 2, 2, 3, 4, 1, 2, 1, 1, 2, 3, 4, 3, 1, 3, 2, 4, 1, 2, 3, 4, 4, 1, 2, 3, 4, 1, 2, 3, 4, 1, 2, 3, 4, 1, 2, 3, 4, 3, 4, 1, 2, 4, 2, 3, 1, 1, 3, 1, 2, 4, 1, 3, 1, 2, 3, 4, 1, 2, 1, 2, 3, 4, 1, 2, 4, 1, 1, 2, 3, 4, 1, 2, 3, 4, 1, 2, 3, 4, 1, 2, 3, 4, 3, 4], \"Freq\": [0.3578730468723494, 0.08298505434721146, 0.18930965522957613, 0.3682461786657508, 0.6729836740405856, 0.036542099947905096, 0.07308419989581019, 0.21925259968743058, 0.20929274638901588, 0.37737759452527214, 0.2559227365171386, 0.15724066438553005, 0.9545816543471076, 0.9379050198411195, 0.049363422096901026, 0.994364810065211, 0.9842902394394388, 0.9848369970501555, 0.9709678436889411, 0.9890720703372577, 0.9476165823384345, 0.05952284304219328, 0.45237360712066893, 0.24523411333383632, 0.2428531996121486, 0.002534170303882448, 0.9959289294258021, 0.9746103907601701, 0.023205009303813574, 0.938470888009198, 0.9008695030891294, 0.10009661145434771, 0.9792000165587271, 0.9938168627454005, 0.16888569146850996, 0.5652500694048088, 0.07927287558725978, 0.1861189252918273, 0.9848478757554475, 0.013918526610609468, 0.9812561260479675, 0.032401502535290075, 0.47306193701523513, 0.006480300507058016, 0.4925028385364092, 0.9895342526363492, 0.9894806614339394, 0.9786125862305102, 0.09691370375517382, 0.8722233337965644, 0.9739826622259662, 0.9774976688388175, 0.28331589214755204, 0.47925398578230766, 0.005295624152290693, 0.23035965062464514, 0.011846093158774664, 0.7792096833327334, 0.19480242083318336, 0.014478558305169033, 0.38214700897651327, 0.6166463099393737, 0.9281192237602148, 0.051562179097789713, 0.7227089091357162, 0.275672470495067, 0.9873817120000605, 0.007336911710443634, 0.9525757037392651, 0.04035301440743999, 0.009485449266812407, 0.009485449266812407, 0.6734668979436809, 0.3130198258048094, 0.96160035111482, 0.9808376782487909, 0.04171966270964216, 0.9595522423217697, 0.9906460669858833, 0.9817941656214177, 0.22408775463524772, 0.0032884995439134888, 0.2851598890222125, 0.4876375037974573, 0.0657044873135601, 0.18890040102648528, 0.7473885431917461, 0.042566288482155726, 0.6668718528871064, 0.1276988654464672, 0.16317077251493028, 0.9716732611923095, 0.8132706559284945, 0.17911318017472794, 0.004840896761479134, 0.9429346225146725, 0.9873508887676554, 0.005674430395216411, 0.033116420956080264, 0.5556199515964578, 0.39003784681605647, 0.022077613970720177, 0.8245358314751626, 0.17521386418847207, 0.9739827057757411, 0.025175767633853423, 0.008391922544617807, 0.6293941908463355, 0.3356769017847123, 0.9739827271583497, 0.9764724712680594, 0.9866065899282052, 0.9454921844940417, 0.9886631060708693, 0.9681496808646874, 0.9762005118673693, 0.9810559374935182, 0.9062213531699487, 0.07880185679738684, 0.013133642799564475, 0.9617366179594913, 0.8739427466990137, 0.12744998389360618, 0.9781024206027908, 0.9642596780370868, 0.9941789167057984, 0.9814443675765435, 0.9624490112198962, 0.1299625233210673, 0.43640047304653123, 0.28728557786762243, 0.14637884205636, 0.21299686472639404, 0.29241942445487995, 0.3357408206704177, 0.15884511945697183, 0.49069255830304737, 0.15159607492289268, 0.15558544531560037, 0.2034578900280928, 0.9937467246053475, 0.9527848013431415, 0.9863831341166028, 0.9865102217511115, 0.13125051931632653, 0.018750074188046646, 0.8437533384620991, 0.9651289148918976, 0.7407781318021045, 0.14337641260685893, 0.023896068767809826, 0.0955842750712393, 0.6507902841973685, 0.29456823389986153, 0.05480339235346261, 0.006850424044182827, 0.21933908849541547, 0.41457498045287317, 0.18318429368847886, 0.18318429368847886, 0.9623240659946634, 0.022075611906663566, 0.9713269238931969, 0.016656989239524224, 0.966105375892405, 0.28756014147605485, 0.07767429108835965, 0.632962840145569, 0.0033052889824833893, 0.07119125363791876, 0.8898906704739844, 0.2661706950234245, 0.10096129811233343, 0.045891499141969744, 0.5782328891888188, 0.13144963101117965, 0.22784602708604473, 0.09639639607486508, 0.5433251415128759, 0.9760285734766003, 0.9775112688784301, 0.9917297702022834, 0.9907543856618606, 0.9867135615623559, 0.9849319129462317, 0.9897963297669767, 0.9750032760924466, 0.11113253301275963, 0.4778698919548664, 0.4167469987978486, 0.990367834461057, 0.9844377163236112, 0.02236659965954601, 0.9617637853604784, 0.9876583733347044, 0.1269037171051512, 0.018129102443593025, 0.8520678148488722, 0.07171421223824224, 0.8964276529780281, 0.9882196408745204, 0.9860898462220579, 0.9780174935627504, 0.03372474115733622, 0.9771428042196401, 0.9662915754361522, 0.025428725669372425, 0.1686132464587817, 0.22629672551047017, 0.43040749753952173, 0.17305043715506543, 0.5287465281445227, 0.15107043661272077, 0.15646580934888937, 0.16186118208505798, 0.3165328110231789, 0.007193927523254065, 0.5395445642440548, 0.1438785504650813, 0.9789860619857765, 0.7644792491057105, 0.010330800663590682, 0.13430040862667886, 0.09297720597231614, 0.2889200515605599, 0.706249014925813, 0.004586032564453331, 0.015158847304530222, 0.8943719909672831, 0.07579423652265112, 0.03622880781595874, 0.688347348503216, 0.2717160586196905, 0.8047909115080256, 0.18488439858968156, 0.7776387336223003, 0.20584554713531478, 0.9739827247539944, 0.46771352538095096, 0.11594578990536178, 0.20634420237394893, 0.20830938525370082, 0.06126787060176716, 0.26257658829328784, 0.052515317658657565, 0.6214312589607812, 0.6361994721152519, 0.08055772536524293, 0.13426287560873823, 0.1487219545204485, 0.3178585355227076, 0.12913003005609996, 0.14899618852626917, 0.4072562486384691, 0.4139008738489016, 0.09519720098524738, 0.2690355680017861, 0.21936746313991787, 0.385160750399997, 0.06502713967792156, 0.08503549034805129, 0.4701962407480483, 0.27100519658375005, 0.7249389008615313, 0.9449306691221052, 0.9950709728826744, 0.01601799683800736, 0.1281439747040589, 0.84895383241439, 0.9830677889974131, 0.04088358684783503, 0.9403224975002058, 0.22191917528683916, 0.5370444041941508, 0.17309695672373454, 0.06213736908031497, 0.9680081988468239, 0.28390382269678704, 0.27782016935328446, 0.26403055510801193, 0.1743980625137406, 0.9874188555846914, 0.9723171619971885, 0.9969611856218207, 0.991478759275665, 0.9583794271201791, 0.9278235177134647, 0.9848370375655493, 0.9676532884022958, 0.04364467199036449, 0.8583452158105016, 0.08728934398072898, 0.989997753207159, 0.42968641170287564, 0.3371020467503223, 0.10208019725537928, 0.12819373608815074, 0.9684543143946951, 0.9913888766031338, 0.9865843642426927, 0.990886982191484, 0.4589247758106493, 0.19368599409212886, 0.21095735662263718, 0.13817090024406645, 0.8445093356424573, 0.03781385084966227, 0.11344155254898682, 0.5428697534385877, 0.07640389122469013, 0.17693532704665083, 0.2050841290767998, 0.43434693999759494, 0.21577235083751492, 0.22978354245034055, 0.11769400954773541, 0.5906431371837086, 0.35730263854323113, 0.05104323407760445, 0.0036459452912574607, 0.9777278375522418, 0.2256754854406885, 0.5318435400866991, 0.24246534650192134, 0.1453076660219834, 0.6806516987345537, 0.16825098170966496, 0.9510511556310468, 0.9373350226171858, 0.019484040227169562, 0.6088762570990488, 0.37019676431622167, 0.4892908835378419, 0.28851947810954615, 0.18169573745411086, 0.040535794445142846, 0.03765595229946524, 0.9413988074866309, 0.42207822260461975, 0.1674913581764364, 0.25458686442818335, 0.15074222235879275, 0.15023871897068755, 0.21033420655896257, 0.6310026196768876, 0.9867434790712616, 0.7060114138341909, 0.157923605726069, 0.13005473412735094, 0.9657993707612704, 0.4085125027683739, 0.1888406852419842, 0.16957122756423068, 0.23123349213304187, 0.9543136041885841, 0.034082628721020865, 0.9908966915052874, 0.9831358356382656, 0.3430964878859913, 0.2888312270468804, 0.27657778105095215, 0.09102559882689565, 0.9431551865331624, 0.9609840549532381, 0.9405583710549024, 0.02411688130910006, 0.02411688130910006, 0.02411688130910006, 0.9861480946876772, 0.008575200823371106, 0.9799426453997429, 0.9822124426411637, 0.9666896601894472, 0.63137540288007, 0.09821395155912199, 0.13329036283023699, 0.1367980039573485, 0.8081892973595853, 0.1898020319556602, 0.943705341952146, 0.9946719440097512, 0.98575055293543, 0.9925055574967402, 0.973982715641647, 0.02831543204847348, 0.9698035476602167, 0.9890252045469368, 0.9668960829252515, 0.2557967283963381, 0.24556485926048457, 0.22169049794349302, 0.27626046666804516, 0.011982649645717894, 0.8867160737831241, 0.10784384681146104, 0.9789351969814251, 0.1478530693525614, 0.8448746820146367, 0.4816185770177222, 0.2143979471885344, 0.05592989926657419, 0.24857733007366306, 0.04288552418825988, 0.9434815321417175, 0.05280434582962545, 0.8844727926462262, 0.06600543228703182, 0.4939851412437203, 0.4908117891586429, 0.014808976397028018, 0.23126759508501615, 0.1185987667102647, 0.2194077184139897, 0.43288549849246616, 0.9774239318651033, 0.013521559367890441, 0.9870738338560021, 0.9959066772720785, 0.9803950861438171, 0.933286904528629, 0.1374528259854833, 0.8639891919087522, 0.9837525811916862, 0.38829004073935314, 0.10667308811520691, 0.324286187870229, 0.17494386450893934, 0.9760004275795191, 0.023035452344964544, 0.9674889984885109, 0.04766528010045572, 0.9533056020091143, 0.34459386350319565, 0.11928249121264466, 0.033134025336845736, 0.49701038005268605, 0.9848092983042779, 0.060124831456024694, 0.013361073656894377, 0.6279704618740357, 0.3006241572801235, 0.45982135240813066, 0.20161397759433422, 0.08842718315540975, 0.2511332001613637, 0.32118130056798655, 0.1733984935581768, 0.3448265496895561, 0.15960543157059456, 0.5056248441418302, 0.12845604148468118, 0.10112496882836604, 0.2623782975006254, 0.14074396181326335, 0.853260268492909, 0.9623989541782806, 0.022381371027401877, 0.022381371027401877, 0.9701286279041119, 0.02155841395342471, 0.9370011617034257, 0.9714669928800089, 0.048573349644000445, 0.07746008902688788, 0.025820029675629293, 0.877881008971396, 0.9518945108651691, 0.9861305141840169, 0.4213733187530682, 0.24268969624385572, 0.30136193050061205, 0.0346699566062651, 0.009258846436146228, 0.9814377222315002, 0.3128278620591951, 0.14300702265563206, 0.3530485871810916, 0.1921656866935056, 0.8811253541454365, 0.06650002672795746, 0.0498750200459681, 0.953446051965328, 0.3879410234231626, 0.4943119492004814, 0.0010428522135031253, 0.1157565956988469, 0.23192265216979607, 0.650879701250718, 0.07481375876445034, 0.052369631135115245, 0.3815562852966772, 0.25437085686445143, 0.2127066647918258, 0.15130680279006165, 0.1704901935280478, 0.5508144713983083, 0.0043715434237960975, 0.27977877912295024, 0.02707076910576496, 0.9745476878075386], \"Term\": [\"'re\", \"'re\", \"'re\", \"'re\", \"'ve\", \"'ve\", \"'ve\", \"'ve\", \"...\", \"...\", \"...\", \"...\", \"//t.co/8cmfoOZwxz\", \"//t.co/xWJzpSodGj\", \"//t.co/xWJzpSodGj\", \"1400\", \"33:33\", \"98Halima\", \"AAlwuhaib1977\", \"AMohedin\", \"Adam\", \"And\", \"And\", \"And\", \"And\", \"Andre\", \"Andre\", \"Annie\", \"Annie\", \"AnthonySammarco\", \"Ash\", \"Ash\", \"BDSSupporter\", \"BilalIGhumman\", \"But\", \"But\", \"But\", \"But\", \"Celine\", \"Colin\", \"Colin\", \"Daesh\", \"Daesh\", \"Daesh\", \"Daesh\", \"DavidJo52951945\", \"DianH4\", \"FearDept\", \"Fuck\", \"Fuck\", \"GBabeuf\", \"Hadiths\", \"ISIS\", \"ISIS\", \"ISIS\", \"ISIS\", \"Islam\", \"Islam\", \"Islam\", \"Islam\", \"IsraeliRegime\", \"IsraeliRegime\", \"Jac\", \"Jac\", \"Jews\", \"Jews\", \"KAT\", \"Kat\", \"Kat\", \"Kat\", \"Katie\", \"Katie\", \"Katie\", \"Katie\", \"Kats\", \"ListenToRaisin\", \"Lithobolos\", \"Lithobolos\", \"Lloyd\", \"Lynn\", \"MKR\", \"MKR\", \"MKR\", \"MKR\", \"MKR2015\", \"MKR2015\", \"MKR2015\", \"MT8_9\", \"MT8_9\", \"MT8_9\", \"MT8_9\", \"MadDr11\", \"MaxBlumenthal\", \"MaxBlumenthal\", \"MaxBlumenthal\", \"MisGrace\", \"Mohammed\", \"Mohammed\", \"Muslim\", \"Muslim\", \"Muslim\", \"Muslim\", \"Muslims\", \"Muslims\", \"NewsCoverUp\", \"Nikki\", \"Nikki\", \"Nikki\", \"Nikki\", \"Novorossiyan\", \"Number10gov\", \"OdiniaInvictus\", \"Our\", \"Pakistan\", \"PeaceNotHate_\", \"PoliticalAnt\", \"Pretty\", \"Putin\", \"Putin\", \"Putin\", \"Qoloob4\", \"Quran\", \"Quran\", \"RJennromao\", \"Robert\", \"Salon\", \"SirajZarook\", \"SueKennedy19\", \"The\", \"The\", \"The\", \"The\", \"They\", \"They\", \"They\", \"They\", \"This\", \"This\", \"This\", \"This\", \"Tony\", \"Ugh\", \"Vandaliser\", \"Vicky\", \"Will\", \"Will\", \"Will\", \"WomenAgainstFeminism\", \"Yeah\", \"Yeah\", \"Yeah\", \"Yeah\", \"YesYoureSexist\", \"YesYoureSexist\", \"YesYoureSexist\", \"YesYoureSexist\", \"You\", \"You\", \"You\", \"You\", \"YusufPeaceful\", \"ZaibatsuNews\", \"ZaibatsuNews\", \"ago\", \"ago\", \"amp\", \"amp\", \"amp\", \"amp\", \"announcement\", \"announcement\", \"another\", \"another\", \"another\", \"another\", \"anyone\", \"anyone\", \"anyone\", \"anyone\", \"asem_1994\", \"basketball\", \"batchelorshow\", \"biebervalue\", \"buttercupashby\", \"cdnKhadija\", \"comedian\", \"commentator\", \"cook\", \"cook\", \"cook\", \"dankmtl\", \"decided\", \"deconstructed\", \"deconstructed\", \"deserve\", \"dessert\", \"dessert\", \"dessert\", \"dinner\", \"dinner\", \"edgeofthesandbx\", \"egg\", \"eliminated\", \"eliminated\", \"elimination\", \"equality\", \"equality\", \"even\", \"even\", \"even\", \"even\", \"ever\", \"ever\", \"ever\", \"ever\", \"face\", \"face\", \"face\", \"face\", \"fair\", \"feel\", \"feel\", \"feel\", \"feel\", \"female\", \"female\", \"female\", \"follow\", \"follow\", \"follow\", \"food\", \"food\", \"food\", \"football\", \"football\", \"game\", \"game\", \"gbazov\", \"get\", \"get\", \"get\", \"get\", \"getting\", \"getting\", \"getting\", \"getting\", \"girl\", \"girl\", \"girl\", \"girl\", \"going\", \"going\", \"going\", \"going\", \"good\", \"good\", \"good\", \"good\", \"got\", \"got\", \"got\", \"got\", \"greenlinerzjm\", \"greenlinerzjm\", \"halalcunty\", \"halalflaws\", \"harassment\", \"harassment\", \"harassment\", \"haroonstyles\", \"hat\", \"hat\", \"hate\", \"hate\", \"hate\", \"hate\", \"helenaandvikki\", \"http\", \"http\", \"http\", \"http\", \"humanity\", \"ibnHlophe\", \"instant\", \"islamdefense\", \"isra_jourisra\", \"jasonbentley\", \"johnnygjokaj\", \"karma\", \"kat\", \"kat\", \"kat\", \"katandandre\", \"know\", \"know\", \"know\", \"know\", \"leg\", \"lemon\", \"liamxkiwi\", \"liar\", \"like\", \"like\", \"like\", \"like\", \"lol\", \"lol\", \"lol\", \"look\", \"look\", \"look\", \"look\", \"make\", \"make\", \"make\", \"make\", \"men\", \"men\", \"men\", \"men\", \"menu\", \"mkr\", \"mkr\", \"mkr\", \"mkr2015\", \"mkr2015\", \"mkr2015\", \"mob\", \"mshaysoul\", \"mykitchenrules\", \"mykitchenrules\", \"mykitchenrules\", \"n't\", \"n't\", \"n't\", \"n't\", \"nasty\", \"nasty\", \"need\", \"need\", \"need\", \"need\", \"next\", \"next\", \"next\", \"non\", \"notsexist\", \"notsexist\", \"notsexist\", \"nyazpolitics\", \"one\", \"one\", \"one\", \"one\", \"paid\", \"paid\", \"pant\", \"pedophile\", \"people\", \"people\", \"people\", \"people\", \"pie\", \"pork\", \"post\", \"post\", \"post\", \"post\", \"prophet\", \"prophet\", \"puppy\", \"race\", \"randi_ebooks\", \"really\", \"really\", \"really\", \"really\", \"religion\", \"religion\", \"remind\", \"restaurant\", \"rfrankh53\", \"riwired\", \"rougek68\", \"round\", \"round\", \"sajid_fairooz\", \"sassy\", \"say\", \"say\", \"say\", \"say\", \"score\", \"score\", \"score\", \"scored\", \"scoring\", \"scoring\", \"see\", \"see\", \"see\", \"see\", \"served\", \"served\", \"sexism\", \"sexism\", \"sexism\", \"sexist\", \"sexist\", \"sexist\", \"show\", \"show\", \"show\", \"show\", \"slap\", \"slave\", \"slave\", \"slavery\", \"smile\", \"sock\", \"sport\", \"sport\", \"staying\", \"still\", \"still\", \"still\", \"still\", \"strategic\", \"strategically\", \"strategically\", \"strike\", \"strike\", \"sure\", \"sure\", \"sure\", \"sure\", \"tart\", \"team\", \"team\", \"team\", \"team\", \"thing\", \"thing\", \"thing\", \"thing\", \"think\", \"think\", \"think\", \"think\", \"time\", \"time\", \"time\", \"time\", \"tonight\", \"tonight\", \"troll\", \"troll\", \"troll\", \"truaemusic\", \"truaemusic\", \"tummala82\", \"unless\", \"unless\", \"verse\", \"verse\", \"verse\", \"version\", \"voting\", \"want\", \"want\", \"want\", \"want\", \"war\", \"war\", \"way\", \"way\", \"way\", \"way\", \"weird\", \"weird\", \"weird\", \"wing\", \"woman\", \"woman\", \"woman\", \"woman\", \"world\", \"world\", \"world\", \"world\", \"would\", \"would\", \"would\", \"would\", \"year\", \"year\", \"year\", \"year\", \"yup\", \"yup\"]}, \"R\": 30, \"lambda.step\": 0.01, \"plot.opts\": {\"xlab\": \"PC1\", \"ylab\": \"PC2\"}, \"topic.order\": [2, 1, 3, 4]};\n",
       "\n",
       "function LDAvis_load_lib(url, callback){\n",
       "  var s = document.createElement('script');\n",
       "  s.src = url;\n",
       "  s.async = true;\n",
       "  s.onreadystatechange = s.onload = callback;\n",
       "  s.onerror = function(){console.warn(\"failed to load library \" + url);};\n",
       "  document.getElementsByTagName(\"head\")[0].appendChild(s);\n",
       "}\n",
       "\n",
       "if(typeof(LDAvis) !== \"undefined\"){\n",
       "   // already loaded: just create the visualization\n",
       "   !function(LDAvis){\n",
       "       new LDAvis(\"#\" + \"ldavis_el138971398184782967525910480098\", ldavis_el138971398184782967525910480098_data);\n",
       "   }(LDAvis);\n",
       "}else if(typeof define === \"function\" && define.amd){\n",
       "   // require.js is available: use it to load d3/LDAvis\n",
       "   require.config({paths: {d3: \"https://d3js.org/d3.v5\"}});\n",
       "   require([\"d3\"], function(d3){\n",
       "      window.d3 = d3;\n",
       "      LDAvis_load_lib(\"https://cdn.jsdelivr.net/gh/bmabey/pyLDAvis@3.4.0/pyLDAvis/js/ldavis.v3.0.0.js\", function(){\n",
       "        new LDAvis(\"#\" + \"ldavis_el138971398184782967525910480098\", ldavis_el138971398184782967525910480098_data);\n",
       "      });\n",
       "    });\n",
       "}else{\n",
       "    // require.js not available: dynamically load d3 & LDAvis\n",
       "    LDAvis_load_lib(\"https://d3js.org/d3.v5.js\", function(){\n",
       "         LDAvis_load_lib(\"https://cdn.jsdelivr.net/gh/bmabey/pyLDAvis@3.4.0/pyLDAvis/js/ldavis.v3.0.0.js\", function(){\n",
       "                 new LDAvis(\"#\" + \"ldavis_el138971398184782967525910480098\", ldavis_el138971398184782967525910480098_data);\n",
       "            })\n",
       "         });\n",
       "}\n",
       "</script>"
      ],
      "text/plain": [
       "PreparedData(topic_coordinates=              x         y  topics  cluster       Freq\n",
       "topic                                                \n",
       "1      0.004846  0.070829       1        1  28.734290\n",
       "0     -0.177809 -0.013920       2        1  27.176646\n",
       "2      0.077555 -0.146272       3        1  22.566401\n",
       "3      0.095408  0.089363       4        1  21.522663, topic_info=      Term         Freq        Total Category  logprob  loglift\n",
       "155    Kat   817.000000   817.000000  Default  30.0000  30.0000\n",
       "63     MKR  2128.000000  2128.000000  Default  29.0000  29.0000\n",
       "42     mkr  2025.000000  2025.000000  Default  28.0000  28.0000\n",
       "154  Andre   394.000000   394.000000  Default  27.0000  27.0000\n",
       "538  Islam   759.000000   759.000000  Default  26.0000  26.0000\n",
       "..     ...          ...          ...      ...      ...      ...\n",
       "254    say    81.035194   293.201561   Topic4  -6.0500   0.2501\n",
       "176    see    80.055765   321.831440   Topic4  -6.0622   0.1448\n",
       "228  think    80.501727   507.501525   Topic4  -6.0567  -0.3052\n",
       "67     n't    84.550971  2096.912153   Topic4  -6.0076  -1.6748\n",
       "214    You    76.471640   414.882731   Topic4  -6.1080  -0.1550\n",
       "\n",
       "[311 rows x 6 columns], token_table=      Topic      Freq  Term\n",
       "term                       \n",
       "130       1  0.357873   're\n",
       "130       2  0.082985   're\n",
       "130       3  0.189310   're\n",
       "130       4  0.368246   're\n",
       "200       1  0.672984   've\n",
       "...     ...       ...   ...\n",
       "187       2  0.550814  year\n",
       "187       3  0.004372  year\n",
       "187       4  0.279779  year\n",
       "2746      3  0.027071   yup\n",
       "2746      4  0.974548   yup\n",
       "\n",
       "[500 rows x 3 columns], R=30, lambda_step=0.01, plot_opts={'xlab': 'PC1', 'ylab': 'PC2'}, topic_order=[2, 1, 3, 4])"
      ]
     },
     "execution_count": 31,
     "metadata": {},
     "output_type": "execute_result"
    }
   ],
   "source": [
    "plot_lda_vis(lda_model, bow_corpus, dic)"
   ]
  }
 ],
 "metadata": {
  "kernelspec": {
   "display_name": "Python 3",
   "language": "python",
   "name": "python3"
  },
  "language_info": {
   "codemirror_mode": {
    "name": "ipython",
    "version": 3
   },
   "file_extension": ".py",
   "mimetype": "text/x-python",
   "name": "python",
   "nbconvert_exporter": "python",
   "pygments_lexer": "ipython3",
   "version": "3.8.10"
  },
  "orig_nbformat": 4
 },
 "nbformat": 4,
 "nbformat_minor": 2
}
