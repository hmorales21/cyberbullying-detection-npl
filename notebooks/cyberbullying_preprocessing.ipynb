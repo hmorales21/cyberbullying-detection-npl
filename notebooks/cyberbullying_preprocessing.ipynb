{
 "cells": [
  {
   "attachments": {},
   "cell_type": "markdown",
   "metadata": {},
   "source": [
    "<h1>Cyberbullying detection</h1>\n",
    "<hr>\n",
    "<h3>Preprocessing</h3>\n",
    "<hr>"
   ]
  },
  {
   "cell_type": "code",
   "execution_count": 24,
   "metadata": {},
   "outputs": [],
   "source": [
    "#Import libraries\n",
    "import pandas as pd\n",
    "import matplotlib.pyplot as plt\n",
    "from wordcloud import WordCloud\n",
    "import re\n",
    "import nltk\n",
    "from nltk.stem import WordNetLemmatizer \n",
    "\n",
    "from nltk.corpus import stopwords\n",
    "from cleantext import clean\n",
    "\n",
    "from collections import  Counter\n",
    "from nltk.stem import WordNetLemmatizer,PorterStemmer\n",
    "from nltk.tokenize import word_tokenize\n",
    "import pyLDAvis.gensim\n",
    "\n",
    "%matplotlib inline"
   ]
  },
  {
   "attachments": {},
   "cell_type": "markdown",
   "metadata": {},
   "source": [
    "<hr>\n",
    "read the dataset\n",
    "<hr>"
   ]
  },
  {
   "cell_type": "code",
   "execution_count": 2,
   "metadata": {},
   "outputs": [],
   "source": [
    "df_cbd = pd.read_csv('../datasets/twitter_parsed_dataset_post_EDA.csv')"
   ]
  },
  {
   "cell_type": "code",
   "execution_count": 3,
   "metadata": {},
   "outputs": [
    {
     "data": {
      "text/plain": [
       "(16851, 5)"
      ]
     },
     "execution_count": 3,
     "metadata": {},
     "output_type": "execute_result"
    }
   ],
   "source": [
    "df_cbd.shape"
   ]
  },
  {
   "attachments": {},
   "cell_type": "markdown",
   "metadata": {},
   "source": [
    "Drop those 3 rows with null values detected on EDA stage."
   ]
  },
  {
   "cell_type": "code",
   "execution_count": 4,
   "metadata": {},
   "outputs": [
    {
     "data": {
      "text/html": [
       "<div>\n",
       "<style scoped>\n",
       "    .dataframe tbody tr th:only-of-type {\n",
       "        vertical-align: middle;\n",
       "    }\n",
       "\n",
       "    .dataframe tbody tr th {\n",
       "        vertical-align: top;\n",
       "    }\n",
       "\n",
       "    .dataframe thead th {\n",
       "        text-align: right;\n",
       "    }\n",
       "</style>\n",
       "<table border=\"1\" class=\"dataframe\">\n",
       "  <thead>\n",
       "    <tr style=\"text-align: right;\">\n",
       "      <th></th>\n",
       "      <th>index</th>\n",
       "      <th>id</th>\n",
       "      <th>text</th>\n",
       "      <th>annotation</th>\n",
       "      <th>oh_label</th>\n",
       "    </tr>\n",
       "  </thead>\n",
       "  <tbody>\n",
       "    <tr>\n",
       "      <th>2992</th>\n",
       "      <td>5.67909969783169E+017</td>\n",
       "      <td>5.67909969783169E+017</td>\n",
       "      <td>RT @Lizzethismetal: Probably gonna piss off so...</td>\n",
       "      <td>NaN</td>\n",
       "      <td>NaN</td>\n",
       "    </tr>\n",
       "    <tr>\n",
       "      <th>2993</th>\n",
       "      <td>#yesallmen</td>\n",
       "      <td>NaN</td>\n",
       "      <td>NaN</td>\n",
       "      <td>NaN</td>\n",
       "      <td>NaN</td>\n",
       "    </tr>\n",
       "    <tr>\n",
       "      <th>2994</th>\n",
       "      <td>@MT8_9 http://t.co/QHo6dhumjc</td>\n",
       "      <td>sexism</td>\n",
       "      <td>1</td>\n",
       "      <td>NaN</td>\n",
       "      <td>NaN</td>\n",
       "    </tr>\n",
       "  </tbody>\n",
       "</table>\n",
       "</div>"
      ],
      "text/plain": [
       "                              index                     id  \\\n",
       "2992          5.67909969783169E+017  5.67909969783169E+017   \n",
       "2993                    #yesallmen                     NaN   \n",
       "2994  @MT8_9 http://t.co/QHo6dhumjc                 sexism   \n",
       "\n",
       "                                                   text annotation  oh_label  \n",
       "2992  RT @Lizzethismetal: Probably gonna piss off so...        NaN       NaN  \n",
       "2993                                                NaN        NaN       NaN  \n",
       "2994                                                  1        NaN       NaN  "
      ]
     },
     "execution_count": 4,
     "metadata": {},
     "output_type": "execute_result"
    }
   ],
   "source": [
    "df_cbd[df_cbd['id'].isnull() | df_cbd['text'].isnull() | df_cbd['annotation'].isnull()] "
   ]
  },
  {
   "cell_type": "code",
   "execution_count": 5,
   "metadata": {},
   "outputs": [
    {
     "data": {
      "text/plain": [
       "(16848, 5)"
      ]
     },
     "execution_count": 5,
     "metadata": {},
     "output_type": "execute_result"
    }
   ],
   "source": [
    "df_cbd.drop(df_cbd[df_cbd['id'].isnull() | df_cbd['text'].isnull() | df_cbd['annotation'].isnull()].index,axis=0,inplace=True)\n",
    "df_cbd.shape"
   ]
  },
  {
   "attachments": {},
   "cell_type": "markdown",
   "metadata": {},
   "source": [
    "Start to remove some text like: http tag, punctuations, special characters"
   ]
  },
  {
   "cell_type": "code",
   "execution_count": 6,
   "metadata": {},
   "outputs": [],
   "source": [
    "#remove url's\n",
    "df_cbd['text'] = df_cbd['text'].map(lambda x : re.sub(r\"\\S*https?:\\S*\", '', x))"
   ]
  },
  {
   "cell_type": "code",
   "execution_count": 7,
   "metadata": {},
   "outputs": [],
   "source": [
    "#remove RT mark\n",
    "df_cbd['text'] =df_cbd['text'].map(lambda x : re.sub(r\"^RT @*\", '', x))"
   ]
  },
  {
   "cell_type": "code",
   "execution_count": 8,
   "metadata": {},
   "outputs": [],
   "source": [
    "#remove punctuaction marks and special characters\n",
    "df_cbd['text']=df_cbd['text'].map(lambda x : re.sub(r\"[!\\\"#$%&\\'()*+,-./:;=>?@[\\]^_`{|}~]*\", '', x))"
   ]
  },
  {
   "attachments": {},
   "cell_type": "markdown",
   "metadata": {},
   "source": [
    "I'm going to eliminate emojis with clean-text"
   ]
  },
  {
   "cell_type": "code",
   "execution_count": 9,
   "metadata": {},
   "outputs": [],
   "source": [
    "df_cbd['text']=df_cbd['text'].map(lambda x : clean(x, no_emoji=True))"
   ]
  },
  {
   "attachments": {},
   "cell_type": "markdown",
   "metadata": {},
   "source": [
    "Now I'm going to eliminate the stopwords, those wich were identify in EDA stage"
   ]
  },
  {
   "cell_type": "code",
   "execution_count": 10,
   "metadata": {},
   "outputs": [],
   "source": [
    "#create an array of english stopwords\n",
    "stop=set(stopwords.words('english'))"
   ]
  },
  {
   "cell_type": "code",
   "execution_count": 11,
   "metadata": {},
   "outputs": [],
   "source": [
    "df_cbd['text'] = df_cbd['text'].apply(lambda x: \" \".join(x for x in x.split() if x not in stop))"
   ]
  },
  {
   "cell_type": "code",
   "execution_count": 12,
   "metadata": {},
   "outputs": [
    {
     "data": {
      "text/html": [
       "<div>\n",
       "<style scoped>\n",
       "    .dataframe tbody tr th:only-of-type {\n",
       "        vertical-align: middle;\n",
       "    }\n",
       "\n",
       "    .dataframe tbody tr th {\n",
       "        vertical-align: top;\n",
       "    }\n",
       "\n",
       "    .dataframe thead th {\n",
       "        text-align: right;\n",
       "    }\n",
       "</style>\n",
       "<table border=\"1\" class=\"dataframe\">\n",
       "  <thead>\n",
       "    <tr style=\"text-align: right;\">\n",
       "      <th></th>\n",
       "      <th>index</th>\n",
       "      <th>id</th>\n",
       "      <th>text</th>\n",
       "      <th>annotation</th>\n",
       "      <th>oh_label</th>\n",
       "    </tr>\n",
       "  </thead>\n",
       "  <tbody>\n",
       "    <tr>\n",
       "      <th>0</th>\n",
       "      <td>5.74948705591165E+017</td>\n",
       "      <td>5.74948705591165E+017</td>\n",
       "      <td>halalflaws biebervalue greenlinerzjm read cont...</td>\n",
       "      <td>none</td>\n",
       "      <td>0.0</td>\n",
       "    </tr>\n",
       "    <tr>\n",
       "      <th>1</th>\n",
       "      <td>5.71917888690393E+017</td>\n",
       "      <td>5.71917888690393E+017</td>\n",
       "      <td>shreyabafna3 idiots claim people tried stop be...</td>\n",
       "      <td>none</td>\n",
       "      <td>0.0</td>\n",
       "    </tr>\n",
       "    <tr>\n",
       "      <th>2</th>\n",
       "      <td>3.90255841338601E+017</td>\n",
       "      <td>3.90255841338601E+017</td>\n",
       "      <td>mooseoftorment call sexist go auto place id ra...</td>\n",
       "      <td>sexism</td>\n",
       "      <td>1.0</td>\n",
       "    </tr>\n",
       "    <tr>\n",
       "      <th>3</th>\n",
       "      <td>5.68208850655916E+017</td>\n",
       "      <td>5.68208850655916E+017</td>\n",
       "      <td>g0ssipsquirrelx wrong isis follows example moh...</td>\n",
       "      <td>racism</td>\n",
       "      <td>1.0</td>\n",
       "    </tr>\n",
       "    <tr>\n",
       "      <th>4</th>\n",
       "      <td>5.75596338802373E+017</td>\n",
       "      <td>5.75596338802373E+017</td>\n",
       "      <td>mkr</td>\n",
       "      <td>none</td>\n",
       "      <td>0.0</td>\n",
       "    </tr>\n",
       "  </tbody>\n",
       "</table>\n",
       "</div>"
      ],
      "text/plain": [
       "                   index                     id  \\\n",
       "0  5.74948705591165E+017  5.74948705591165E+017   \n",
       "1  5.71917888690393E+017  5.71917888690393E+017   \n",
       "2  3.90255841338601E+017  3.90255841338601E+017   \n",
       "3  5.68208850655916E+017  5.68208850655916E+017   \n",
       "4  5.75596338802373E+017  5.75596338802373E+017   \n",
       "\n",
       "                                                text annotation  oh_label  \n",
       "0  halalflaws biebervalue greenlinerzjm read cont...       none       0.0  \n",
       "1  shreyabafna3 idiots claim people tried stop be...       none       0.0  \n",
       "2  mooseoftorment call sexist go auto place id ra...     sexism       1.0  \n",
       "3  g0ssipsquirrelx wrong isis follows example moh...     racism       1.0  \n",
       "4                                                mkr       none       0.0  "
      ]
     },
     "execution_count": 12,
     "metadata": {},
     "output_type": "execute_result"
    }
   ],
   "source": [
    "df_cbd.head()"
   ]
  },
  {
   "attachments": {},
   "cell_type": "markdown",
   "metadata": {},
   "source": [
    "## Lemmatization\n",
    "the process of converting a word to its base form. Lemmatization considers the context and converts the word to its meaningful base form."
   ]
  },
  {
   "cell_type": "code",
   "execution_count": 13,
   "metadata": {},
   "outputs": [],
   "source": [
    "# Init the Wordnet Lemmatizer\n",
    "lemmatizer = WordNetLemmatizer()"
   ]
  },
  {
   "cell_type": "code",
   "execution_count": 16,
   "metadata": {},
   "outputs": [],
   "source": [
    "df_cbd['text'] = df_cbd['text'].apply(lambda x: lemmatizer.lemmatize(x))"
   ]
  },
  {
   "cell_type": "code",
   "execution_count": 17,
   "metadata": {},
   "outputs": [
    {
     "data": {
      "text/html": [
       "<div>\n",
       "<style scoped>\n",
       "    .dataframe tbody tr th:only-of-type {\n",
       "        vertical-align: middle;\n",
       "    }\n",
       "\n",
       "    .dataframe tbody tr th {\n",
       "        vertical-align: top;\n",
       "    }\n",
       "\n",
       "    .dataframe thead th {\n",
       "        text-align: right;\n",
       "    }\n",
       "</style>\n",
       "<table border=\"1\" class=\"dataframe\">\n",
       "  <thead>\n",
       "    <tr style=\"text-align: right;\">\n",
       "      <th></th>\n",
       "      <th>index</th>\n",
       "      <th>id</th>\n",
       "      <th>text</th>\n",
       "      <th>annotation</th>\n",
       "      <th>oh_label</th>\n",
       "    </tr>\n",
       "  </thead>\n",
       "  <tbody>\n",
       "    <tr>\n",
       "      <th>0</th>\n",
       "      <td>5.74948705591165E+017</td>\n",
       "      <td>5.74948705591165E+017</td>\n",
       "      <td>halalflaws biebervalue greenlinerzjm read cont...</td>\n",
       "      <td>none</td>\n",
       "      <td>0.0</td>\n",
       "    </tr>\n",
       "    <tr>\n",
       "      <th>1</th>\n",
       "      <td>5.71917888690393E+017</td>\n",
       "      <td>5.71917888690393E+017</td>\n",
       "      <td>shreyabafna3 idiots claim people tried stop be...</td>\n",
       "      <td>none</td>\n",
       "      <td>0.0</td>\n",
       "    </tr>\n",
       "    <tr>\n",
       "      <th>2</th>\n",
       "      <td>3.90255841338601E+017</td>\n",
       "      <td>3.90255841338601E+017</td>\n",
       "      <td>mooseoftorment call sexist go auto place id ra...</td>\n",
       "      <td>sexism</td>\n",
       "      <td>1.0</td>\n",
       "    </tr>\n",
       "    <tr>\n",
       "      <th>3</th>\n",
       "      <td>5.68208850655916E+017</td>\n",
       "      <td>5.68208850655916E+017</td>\n",
       "      <td>g0ssipsquirrelx wrong isis follows example moh...</td>\n",
       "      <td>racism</td>\n",
       "      <td>1.0</td>\n",
       "    </tr>\n",
       "    <tr>\n",
       "      <th>4</th>\n",
       "      <td>5.75596338802373E+017</td>\n",
       "      <td>5.75596338802373E+017</td>\n",
       "      <td>mkr</td>\n",
       "      <td>none</td>\n",
       "      <td>0.0</td>\n",
       "    </tr>\n",
       "    <tr>\n",
       "      <th>5</th>\n",
       "      <td>5.61184804004041E+017</td>\n",
       "      <td>5.61184804004041E+017</td>\n",
       "      <td>trobinsonnewera saudi preacher raped tortured ...</td>\n",
       "      <td>none</td>\n",
       "      <td>0.0</td>\n",
       "    </tr>\n",
       "    <tr>\n",
       "      <th>6</th>\n",
       "      <td>4.36563082093949E+017</td>\n",
       "      <td>4.36563082093949E+017</td>\n",
       "      <td>millhouse66 maureenjs nooo sexist women bad dr...</td>\n",
       "      <td>sexism</td>\n",
       "      <td>1.0</td>\n",
       "    </tr>\n",
       "    <tr>\n",
       "      <th>7</th>\n",
       "      <td>5.75962326454641E+017</td>\n",
       "      <td>5.75962326454641E+017</td>\n",
       "      <td>going make pancakesdont hve strawberries hve b...</td>\n",
       "      <td>none</td>\n",
       "      <td>0.0</td>\n",
       "    </tr>\n",
       "    <tr>\n",
       "      <th>8</th>\n",
       "      <td>5.72581510248706E+017</td>\n",
       "      <td>5.72581510248706E+017</td>\n",
       "      <td>ahtweet freebsdgirl dare feelings fantastic wa...</td>\n",
       "      <td>none</td>\n",
       "      <td>0.0</td>\n",
       "    </tr>\n",
       "    <tr>\n",
       "      <th>9</th>\n",
       "      <td>5.00456367719989E+017</td>\n",
       "      <td>5.00456367719989E+017</td>\n",
       "      <td>newmanzaa theres something wrong girl wins way...</td>\n",
       "      <td>sexism</td>\n",
       "      <td>1.0</td>\n",
       "    </tr>\n",
       "    <tr>\n",
       "      <th>10</th>\n",
       "      <td>5.69174903947014E+017</td>\n",
       "      <td>5.69174903947014E+017</td>\n",
       "      <td>dllvllhllvllb hyperion5182 politibunny thebloc...</td>\n",
       "      <td>none</td>\n",
       "      <td>0.0</td>\n",
       "    </tr>\n",
       "    <tr>\n",
       "      <th>11</th>\n",
       "      <td>5.61704465745465E+017</td>\n",
       "      <td>5.61704465745465E+017</td>\n",
       "      <td>sirajzarook odiniainvictus bilalighumman israe...</td>\n",
       "      <td>racism</td>\n",
       "      <td>1.0</td>\n",
       "    </tr>\n",
       "    <tr>\n",
       "      <th>12</th>\n",
       "      <td>5.69954912181682E+017</td>\n",
       "      <td>5.69954912181682E+017</td>\n",
       "      <td>shriekapotomos crashoverridenw help everyone a...</td>\n",
       "      <td>none</td>\n",
       "      <td>0.0</td>\n",
       "    </tr>\n",
       "    <tr>\n",
       "      <th>13</th>\n",
       "      <td>5.63876236837913E+017</td>\n",
       "      <td>5.63876236837913E+017</td>\n",
       "      <td>scampfaridxx abualbaraasham yeah called caring...</td>\n",
       "      <td>racism</td>\n",
       "      <td>1.0</td>\n",
       "    </tr>\n",
       "    <tr>\n",
       "      <th>14</th>\n",
       "      <td>5.7318251129292E+017</td>\n",
       "      <td>5.7318251129292E+017</td>\n",
       "      <td>otoh eventually like wait harper youre randi h...</td>\n",
       "      <td>none</td>\n",
       "      <td>0.0</td>\n",
       "    </tr>\n",
       "    <tr>\n",
       "      <th>15</th>\n",
       "      <td>5.65740181894857E+017</td>\n",
       "      <td>5.65740181894857E+017</td>\n",
       "      <td>israelites234 jacquard612 loveussr roflmao put...</td>\n",
       "      <td>none</td>\n",
       "      <td>0.0</td>\n",
       "    </tr>\n",
       "    <tr>\n",
       "      <th>16</th>\n",
       "      <td>5.75643113219191E+017</td>\n",
       "      <td>5.75643113219191E+017</td>\n",
       "      <td>nathanrodger kat amp andre drowning river amp ...</td>\n",
       "      <td>none</td>\n",
       "      <td>0.0</td>\n",
       "    </tr>\n",
       "    <tr>\n",
       "      <th>17</th>\n",
       "      <td>5.6876818944365E+017</td>\n",
       "      <td>5.6876818944365E+017</td>\n",
       "      <td>thelokijotunn mt89 literally site today</td>\n",
       "      <td>sexism</td>\n",
       "      <td>1.0</td>\n",
       "    </tr>\n",
       "    <tr>\n",
       "      <th>18</th>\n",
       "      <td>5.63376928019603E+017</td>\n",
       "      <td>5.63376928019603E+017</td>\n",
       "      <td>juxtaposition</td>\n",
       "      <td>none</td>\n",
       "      <td>0.0</td>\n",
       "    </tr>\n",
       "    <tr>\n",
       "      <th>19</th>\n",
       "      <td>5.75602178754093E+017</td>\n",
       "      <td>5.75602178754093E+017</td>\n",
       "      <td>woo cant wait see happens mkr</td>\n",
       "      <td>none</td>\n",
       "      <td>0.0</td>\n",
       "    </tr>\n",
       "  </tbody>\n",
       "</table>\n",
       "</div>"
      ],
      "text/plain": [
       "                    index                     id  \\\n",
       "0   5.74948705591165E+017  5.74948705591165E+017   \n",
       "1   5.71917888690393E+017  5.71917888690393E+017   \n",
       "2   3.90255841338601E+017  3.90255841338601E+017   \n",
       "3   5.68208850655916E+017  5.68208850655916E+017   \n",
       "4   5.75596338802373E+017  5.75596338802373E+017   \n",
       "5   5.61184804004041E+017  5.61184804004041E+017   \n",
       "6   4.36563082093949E+017  4.36563082093949E+017   \n",
       "7   5.75962326454641E+017  5.75962326454641E+017   \n",
       "8   5.72581510248706E+017  5.72581510248706E+017   \n",
       "9   5.00456367719989E+017  5.00456367719989E+017   \n",
       "10  5.69174903947014E+017  5.69174903947014E+017   \n",
       "11  5.61704465745465E+017  5.61704465745465E+017   \n",
       "12  5.69954912181682E+017  5.69954912181682E+017   \n",
       "13  5.63876236837913E+017  5.63876236837913E+017   \n",
       "14   5.7318251129292E+017   5.7318251129292E+017   \n",
       "15  5.65740181894857E+017  5.65740181894857E+017   \n",
       "16  5.75643113219191E+017  5.75643113219191E+017   \n",
       "17   5.6876818944365E+017   5.6876818944365E+017   \n",
       "18  5.63376928019603E+017  5.63376928019603E+017   \n",
       "19  5.75602178754093E+017  5.75602178754093E+017   \n",
       "\n",
       "                                                 text annotation  oh_label  \n",
       "0   halalflaws biebervalue greenlinerzjm read cont...       none       0.0  \n",
       "1   shreyabafna3 idiots claim people tried stop be...       none       0.0  \n",
       "2   mooseoftorment call sexist go auto place id ra...     sexism       1.0  \n",
       "3   g0ssipsquirrelx wrong isis follows example moh...     racism       1.0  \n",
       "4                                                 mkr       none       0.0  \n",
       "5   trobinsonnewera saudi preacher raped tortured ...       none       0.0  \n",
       "6   millhouse66 maureenjs nooo sexist women bad dr...     sexism       1.0  \n",
       "7   going make pancakesdont hve strawberries hve b...       none       0.0  \n",
       "8   ahtweet freebsdgirl dare feelings fantastic wa...       none       0.0  \n",
       "9   newmanzaa theres something wrong girl wins way...     sexism       1.0  \n",
       "10  dllvllhllvllb hyperion5182 politibunny thebloc...       none       0.0  \n",
       "11  sirajzarook odiniainvictus bilalighumman israe...     racism       1.0  \n",
       "12  shriekapotomos crashoverridenw help everyone a...       none       0.0  \n",
       "13  scampfaridxx abualbaraasham yeah called caring...     racism       1.0  \n",
       "14  otoh eventually like wait harper youre randi h...       none       0.0  \n",
       "15  israelites234 jacquard612 loveussr roflmao put...       none       0.0  \n",
       "16  nathanrodger kat amp andre drowning river amp ...       none       0.0  \n",
       "17            thelokijotunn mt89 literally site today     sexism       1.0  \n",
       "18                                      juxtaposition       none       0.0  \n",
       "19                      woo cant wait see happens mkr       none       0.0  "
      ]
     },
     "execution_count": 17,
     "metadata": {},
     "output_type": "execute_result"
    }
   ],
   "source": [
    "df_cbd.head(20)"
   ]
  },
  {
   "attachments": {},
   "cell_type": "markdown",
   "metadata": {},
   "source": [
    "Save the dataset for modeling"
   ]
  },
  {
   "cell_type": "code",
   "execution_count": 29,
   "metadata": {},
   "outputs": [],
   "source": [
    "df_cbd.to_csv('../datasets/twitter_parsed_dataset_post_cleaning.csv')"
   ]
  }
 ],
 "metadata": {
  "kernelspec": {
   "display_name": "Python 3",
   "language": "python",
   "name": "python3"
  },
  "language_info": {
   "codemirror_mode": {
    "name": "ipython",
    "version": 3
   },
   "file_extension": ".py",
   "mimetype": "text/x-python",
   "name": "python",
   "nbconvert_exporter": "python",
   "pygments_lexer": "ipython3",
   "version": "3.8.10"
  },
  "orig_nbformat": 4
 },
 "nbformat": 4,
 "nbformat_minor": 2
}
